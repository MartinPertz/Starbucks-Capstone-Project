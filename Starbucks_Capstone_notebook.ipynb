{
 "cells": [
  {
   "cell_type": "markdown",
   "metadata": {},
   "source": [
    "# Starbucks Capstone Challenge\n",
    "\n",
    "### Introduction\n",
    "\n",
    "This data set contains simulated data that mimics customer behavior on the Starbucks rewards mobile app. Once every few days, Starbucks sends out an offer to users of the mobile app. An offer can be merely an advertisement for a drink or an actual offer such as a discount or BOGO (buy one get one free). Some users might not receive any offer during certain weeks. \n",
    "\n",
    "Not all users receive the same offer, and that is the challenge to solve with this data set.\n",
    "\n",
    "Your task is to combine transaction, demographic and offer data to determine which demographic groups respond best to which offer type. This data set is a simplified version of the real Starbucks app because the underlying simulator only has one product whereas Starbucks actually sells dozens of products.\n",
    "\n",
    "Every offer has a validity period before the offer expires. As an example, a BOGO offer might be valid for only 5 days. You'll see in the data set that informational offers have a validity period even though these ads are merely providing information about a product; for example, if an informational offer has 7 days of validity, you can assume the customer is feeling the influence of the offer for 7 days after receiving the advertisement.\n",
    "\n",
    "You'll be given transactional data showing user purchases made on the app including the timestamp of purchase and the amount of money spent on a purchase. This transactional data also has a record for each offer that a user receives as well as a record for when a user actually views the offer. There are also records for when a user completes an offer. \n",
    "\n",
    "Keep in mind as well that someone using the app might make a purchase through the app without having received an offer or seen an offer.\n",
    "\n",
    "### Example\n",
    "\n",
    "To give an example, a user could receive a discount offer buy 10 dollars get 2 off on Monday. The offer is valid for 10 days from receipt. If the customer accumulates at least 10 dollars in purchases during the validity period, the customer completes the offer.\n",
    "\n",
    "However, there are a few things to watch out for in this data set. Customers do not opt into the offers that they receive; in other words, a user can receive an offer, never actually view the offer, and still complete the offer. For example, a user might receive the \"buy 10 dollars get 2 dollars off offer\", but the user never opens the offer during the 10 day validity period. The customer spends 15 dollars during those ten days. There will be an offer completion record in the data set; however, the customer was not influenced by the offer because the customer never viewed the offer.\n",
    "\n",
    "### Cleaning\n",
    "\n",
    "This makes data cleaning especially important and tricky.\n",
    "\n",
    "You'll also want to take into account that some demographic groups will make purchases even if they don't receive an offer. From a business perspective, if a customer is going to make a 10 dollar purchase without an offer anyway, you wouldn't want to send a buy 10 dollars get 2 dollars off offer. You'll want to try to assess what a certain demographic group will buy when not receiving any offers.\n",
    "\n",
    "### Final Advice\n",
    "\n",
    "Because this is a capstone project, you are free to analyze the data any way you see fit. For example, you could build a machine learning model that predicts how much someone will spend based on demographics and offer type. Or you could build a model that predicts whether or not someone will respond to an offer. Or, you don't need to build a machine learning model at all. You could develop a set of heuristics that determine what offer you should send to each customer (i.e., 75 percent of women customers who were 35 years old responded to offer A vs 40 percent from the same demographic to offer B, so send offer A)."
   ]
  },
  {
   "cell_type": "markdown",
   "metadata": {},
   "source": [
    "# Data Sets\n",
    "\n",
    "The data is contained in three files:\n",
    "\n",
    "* portfolio.json - containing offer ids and meta data about each offer (duration, type, etc.)\n",
    "* profile.json - demographic data for each customer\n",
    "* transcript.json - records for transactions, offers received, offers viewed, and offers completed\n",
    "\n",
    "Here is the schema and explanation of each variable in the files:\n",
    "\n",
    "**portfolio.json**\n",
    "* id (string) - offer id\n",
    "* offer_type (string) - type of offer ie BOGO, discount, informational\n",
    "* difficulty (int) - minimum required spend to complete an offer\n",
    "* reward (int) - reward given for completing an offer\n",
    "* duration (int) - time for offer to be open, in days\n",
    "* channels (list of strings)\n",
    "\n",
    "**profile.json**\n",
    "* age (int) - age of the customer \n",
    "* became_member_on (int) - date when customer created an app account\n",
    "* gender (str) - gender of the customer (note some entries contain 'O' for other rather than M or F)\n",
    "* id (str) - customer id\n",
    "* income (float) - customer's income\n",
    "\n",
    "**transcript.json**\n",
    "* event (str) - record description (ie transaction, offer received, offer viewed, etc.)\n",
    "* person (str) - customer id\n",
    "* time (int) - time in hours since start of test. The data begins at time t=0\n",
    "* value - (dict of strings) - either an offer id or transaction amount depending on the record\n"
   ]
  },
  {
   "cell_type": "code",
   "execution_count": 1,
   "metadata": {},
   "outputs": [],
   "source": [
    "import pandas as pd\n",
    "from pandas import json_normalize\n",
    "import numpy as np\n",
    "from sklearn.model_selection import train_test_split\n",
    "from sklearn.ensemble import RandomForestClassifier\n",
    "from sklearn.ensemble import AdaBoostClassifier\n",
    "import math\n",
    "import json\n",
    "import copy\n",
    "from scipy.stats import gmean\n",
    "\n",
    "import matplotlib.pyplot as plt\n",
    "import seaborn as sns\n",
    "%matplotlib inline\n",
    "\n",
    "# read in the json files\n",
    "portfolio = pd.read_json('data/portfolio.json', orient='records', lines=True)\n",
    "profile = pd.read_json('data/profile.json', orient='records', lines=True)\n",
    "transcript = pd.read_json('data/transcript.json', orient='records', lines=True)"
   ]
  },
  {
   "cell_type": "markdown",
   "metadata": {},
   "source": [
    "### Investigate the files and clean the data\n",
    "\n",
    "#### Investigate portfolio"
   ]
  },
  {
   "cell_type": "code",
   "execution_count": 2,
   "metadata": {},
   "outputs": [
    {
     "data": {
      "text/html": [
       "<div>\n",
       "<style scoped>\n",
       "    .dataframe tbody tr th:only-of-type {\n",
       "        vertical-align: middle;\n",
       "    }\n",
       "\n",
       "    .dataframe tbody tr th {\n",
       "        vertical-align: top;\n",
       "    }\n",
       "\n",
       "    .dataframe thead th {\n",
       "        text-align: right;\n",
       "    }\n",
       "</style>\n",
       "<table border=\"1\" class=\"dataframe\">\n",
       "  <thead>\n",
       "    <tr style=\"text-align: right;\">\n",
       "      <th></th>\n",
       "      <th>reward</th>\n",
       "      <th>channels</th>\n",
       "      <th>difficulty</th>\n",
       "      <th>duration</th>\n",
       "      <th>offer_type</th>\n",
       "      <th>id</th>\n",
       "    </tr>\n",
       "  </thead>\n",
       "  <tbody>\n",
       "    <tr>\n",
       "      <th>0</th>\n",
       "      <td>10</td>\n",
       "      <td>[email, mobile, social]</td>\n",
       "      <td>10</td>\n",
       "      <td>7</td>\n",
       "      <td>bogo</td>\n",
       "      <td>ae264e3637204a6fb9bb56bc8210ddfd</td>\n",
       "    </tr>\n",
       "    <tr>\n",
       "      <th>1</th>\n",
       "      <td>10</td>\n",
       "      <td>[web, email, mobile, social]</td>\n",
       "      <td>10</td>\n",
       "      <td>5</td>\n",
       "      <td>bogo</td>\n",
       "      <td>4d5c57ea9a6940dd891ad53e9dbe8da0</td>\n",
       "    </tr>\n",
       "    <tr>\n",
       "      <th>2</th>\n",
       "      <td>0</td>\n",
       "      <td>[web, email, mobile]</td>\n",
       "      <td>0</td>\n",
       "      <td>4</td>\n",
       "      <td>informational</td>\n",
       "      <td>3f207df678b143eea3cee63160fa8bed</td>\n",
       "    </tr>\n",
       "    <tr>\n",
       "      <th>3</th>\n",
       "      <td>5</td>\n",
       "      <td>[web, email, mobile]</td>\n",
       "      <td>5</td>\n",
       "      <td>7</td>\n",
       "      <td>bogo</td>\n",
       "      <td>9b98b8c7a33c4b65b9aebfe6a799e6d9</td>\n",
       "    </tr>\n",
       "    <tr>\n",
       "      <th>4</th>\n",
       "      <td>5</td>\n",
       "      <td>[web, email]</td>\n",
       "      <td>20</td>\n",
       "      <td>10</td>\n",
       "      <td>discount</td>\n",
       "      <td>0b1e1539f2cc45b7b9fa7c272da2e1d7</td>\n",
       "    </tr>\n",
       "    <tr>\n",
       "      <th>5</th>\n",
       "      <td>3</td>\n",
       "      <td>[web, email, mobile, social]</td>\n",
       "      <td>7</td>\n",
       "      <td>7</td>\n",
       "      <td>discount</td>\n",
       "      <td>2298d6c36e964ae4a3e7e9706d1fb8c2</td>\n",
       "    </tr>\n",
       "    <tr>\n",
       "      <th>6</th>\n",
       "      <td>2</td>\n",
       "      <td>[web, email, mobile, social]</td>\n",
       "      <td>10</td>\n",
       "      <td>10</td>\n",
       "      <td>discount</td>\n",
       "      <td>fafdcd668e3743c1bb461111dcafc2a4</td>\n",
       "    </tr>\n",
       "    <tr>\n",
       "      <th>7</th>\n",
       "      <td>0</td>\n",
       "      <td>[email, mobile, social]</td>\n",
       "      <td>0</td>\n",
       "      <td>3</td>\n",
       "      <td>informational</td>\n",
       "      <td>5a8bc65990b245e5a138643cd4eb9837</td>\n",
       "    </tr>\n",
       "    <tr>\n",
       "      <th>8</th>\n",
       "      <td>5</td>\n",
       "      <td>[web, email, mobile, social]</td>\n",
       "      <td>5</td>\n",
       "      <td>5</td>\n",
       "      <td>bogo</td>\n",
       "      <td>f19421c1d4aa40978ebb69ca19b0e20d</td>\n",
       "    </tr>\n",
       "    <tr>\n",
       "      <th>9</th>\n",
       "      <td>2</td>\n",
       "      <td>[web, email, mobile]</td>\n",
       "      <td>10</td>\n",
       "      <td>7</td>\n",
       "      <td>discount</td>\n",
       "      <td>2906b810c7d4411798c6938adc9daaa5</td>\n",
       "    </tr>\n",
       "  </tbody>\n",
       "</table>\n",
       "</div>"
      ],
      "text/plain": [
       "   reward                      channels  difficulty  duration     offer_type  \\\n",
       "0      10       [email, mobile, social]          10         7           bogo   \n",
       "1      10  [web, email, mobile, social]          10         5           bogo   \n",
       "2       0          [web, email, mobile]           0         4  informational   \n",
       "3       5          [web, email, mobile]           5         7           bogo   \n",
       "4       5                  [web, email]          20        10       discount   \n",
       "5       3  [web, email, mobile, social]           7         7       discount   \n",
       "6       2  [web, email, mobile, social]          10        10       discount   \n",
       "7       0       [email, mobile, social]           0         3  informational   \n",
       "8       5  [web, email, mobile, social]           5         5           bogo   \n",
       "9       2          [web, email, mobile]          10         7       discount   \n",
       "\n",
       "                                 id  \n",
       "0  ae264e3637204a6fb9bb56bc8210ddfd  \n",
       "1  4d5c57ea9a6940dd891ad53e9dbe8da0  \n",
       "2  3f207df678b143eea3cee63160fa8bed  \n",
       "3  9b98b8c7a33c4b65b9aebfe6a799e6d9  \n",
       "4  0b1e1539f2cc45b7b9fa7c272da2e1d7  \n",
       "5  2298d6c36e964ae4a3e7e9706d1fb8c2  \n",
       "6  fafdcd668e3743c1bb461111dcafc2a4  \n",
       "7  5a8bc65990b245e5a138643cd4eb9837  \n",
       "8  f19421c1d4aa40978ebb69ca19b0e20d  \n",
       "9  2906b810c7d4411798c6938adc9daaa5  "
      ]
     },
     "execution_count": 2,
     "metadata": {},
     "output_type": "execute_result"
    }
   ],
   "source": [
    "# Take a look on portfolio\n",
    "portfolio"
   ]
  },
  {
   "cell_type": "code",
   "execution_count": 3,
   "metadata": {},
   "outputs": [],
   "source": [
    "# Convert list strings in csv strings in \"channels\"  \n",
    "portfolio['channels'] = [','.join(ch) for ch in portfolio['channels']]"
   ]
  },
  {
   "cell_type": "code",
   "execution_count": 4,
   "metadata": {},
   "outputs": [],
   "source": [
    "# Separate the categories in \"channels\"\n",
    "email_ls = []\n",
    "mobile_ls = []\n",
    "social_ls = []\n",
    "web_ls = []\n",
    "\n",
    "for ch in portfolio['channels']:\n",
    "    \n",
    "    email = 0\n",
    "    mobile = 0\n",
    "    social = 0\n",
    "    web = 0\n",
    "    \n",
    "    if 'email' in ch:\n",
    "        email = 1\n",
    "    email_ls.extend([email])\n",
    "    if 'mobile' in ch:\n",
    "        mobile = 1\n",
    "    mobile_ls.extend([mobile])\n",
    "    if 'social' in ch:\n",
    "        social = 1\n",
    "    social_ls.extend([social])\n",
    "    if 'web' in ch:\n",
    "        web = 1\n",
    "    web_ls.extend([web])\n"
   ]
  },
  {
   "cell_type": "code",
   "execution_count": 5,
   "metadata": {},
   "outputs": [],
   "source": [
    "# New rows for the channels\n",
    "portfolio['email'] = email_ls \n",
    "portfolio['mobile'] = mobile_ls \n",
    "portfolio['social'] = social_ls\n",
    "portfolio['web'] = web_ls"
   ]
  },
  {
   "cell_type": "code",
   "execution_count": 6,
   "metadata": {},
   "outputs": [
    {
     "data": {
      "text/html": [
       "<div>\n",
       "<style scoped>\n",
       "    .dataframe tbody tr th:only-of-type {\n",
       "        vertical-align: middle;\n",
       "    }\n",
       "\n",
       "    .dataframe tbody tr th {\n",
       "        vertical-align: top;\n",
       "    }\n",
       "\n",
       "    .dataframe thead th {\n",
       "        text-align: right;\n",
       "    }\n",
       "</style>\n",
       "<table border=\"1\" class=\"dataframe\">\n",
       "  <thead>\n",
       "    <tr style=\"text-align: right;\">\n",
       "      <th></th>\n",
       "      <th>reward</th>\n",
       "      <th>channels</th>\n",
       "      <th>difficulty</th>\n",
       "      <th>duration</th>\n",
       "      <th>offer_type</th>\n",
       "      <th>id</th>\n",
       "      <th>email</th>\n",
       "      <th>mobile</th>\n",
       "      <th>social</th>\n",
       "      <th>web</th>\n",
       "    </tr>\n",
       "  </thead>\n",
       "  <tbody>\n",
       "    <tr>\n",
       "      <th>0</th>\n",
       "      <td>10</td>\n",
       "      <td>email,mobile,social</td>\n",
       "      <td>10</td>\n",
       "      <td>7</td>\n",
       "      <td>bogo</td>\n",
       "      <td>ae264e3637204a6fb9bb56bc8210ddfd</td>\n",
       "      <td>1</td>\n",
       "      <td>1</td>\n",
       "      <td>1</td>\n",
       "      <td>0</td>\n",
       "    </tr>\n",
       "    <tr>\n",
       "      <th>1</th>\n",
       "      <td>10</td>\n",
       "      <td>web,email,mobile,social</td>\n",
       "      <td>10</td>\n",
       "      <td>5</td>\n",
       "      <td>bogo</td>\n",
       "      <td>4d5c57ea9a6940dd891ad53e9dbe8da0</td>\n",
       "      <td>1</td>\n",
       "      <td>1</td>\n",
       "      <td>1</td>\n",
       "      <td>1</td>\n",
       "    </tr>\n",
       "    <tr>\n",
       "      <th>2</th>\n",
       "      <td>0</td>\n",
       "      <td>web,email,mobile</td>\n",
       "      <td>0</td>\n",
       "      <td>4</td>\n",
       "      <td>informational</td>\n",
       "      <td>3f207df678b143eea3cee63160fa8bed</td>\n",
       "      <td>1</td>\n",
       "      <td>1</td>\n",
       "      <td>0</td>\n",
       "      <td>1</td>\n",
       "    </tr>\n",
       "    <tr>\n",
       "      <th>3</th>\n",
       "      <td>5</td>\n",
       "      <td>web,email,mobile</td>\n",
       "      <td>5</td>\n",
       "      <td>7</td>\n",
       "      <td>bogo</td>\n",
       "      <td>9b98b8c7a33c4b65b9aebfe6a799e6d9</td>\n",
       "      <td>1</td>\n",
       "      <td>1</td>\n",
       "      <td>0</td>\n",
       "      <td>1</td>\n",
       "    </tr>\n",
       "    <tr>\n",
       "      <th>4</th>\n",
       "      <td>5</td>\n",
       "      <td>web,email</td>\n",
       "      <td>20</td>\n",
       "      <td>10</td>\n",
       "      <td>discount</td>\n",
       "      <td>0b1e1539f2cc45b7b9fa7c272da2e1d7</td>\n",
       "      <td>1</td>\n",
       "      <td>0</td>\n",
       "      <td>0</td>\n",
       "      <td>1</td>\n",
       "    </tr>\n",
       "    <tr>\n",
       "      <th>5</th>\n",
       "      <td>3</td>\n",
       "      <td>web,email,mobile,social</td>\n",
       "      <td>7</td>\n",
       "      <td>7</td>\n",
       "      <td>discount</td>\n",
       "      <td>2298d6c36e964ae4a3e7e9706d1fb8c2</td>\n",
       "      <td>1</td>\n",
       "      <td>1</td>\n",
       "      <td>1</td>\n",
       "      <td>1</td>\n",
       "    </tr>\n",
       "    <tr>\n",
       "      <th>6</th>\n",
       "      <td>2</td>\n",
       "      <td>web,email,mobile,social</td>\n",
       "      <td>10</td>\n",
       "      <td>10</td>\n",
       "      <td>discount</td>\n",
       "      <td>fafdcd668e3743c1bb461111dcafc2a4</td>\n",
       "      <td>1</td>\n",
       "      <td>1</td>\n",
       "      <td>1</td>\n",
       "      <td>1</td>\n",
       "    </tr>\n",
       "    <tr>\n",
       "      <th>7</th>\n",
       "      <td>0</td>\n",
       "      <td>email,mobile,social</td>\n",
       "      <td>0</td>\n",
       "      <td>3</td>\n",
       "      <td>informational</td>\n",
       "      <td>5a8bc65990b245e5a138643cd4eb9837</td>\n",
       "      <td>1</td>\n",
       "      <td>1</td>\n",
       "      <td>1</td>\n",
       "      <td>0</td>\n",
       "    </tr>\n",
       "    <tr>\n",
       "      <th>8</th>\n",
       "      <td>5</td>\n",
       "      <td>web,email,mobile,social</td>\n",
       "      <td>5</td>\n",
       "      <td>5</td>\n",
       "      <td>bogo</td>\n",
       "      <td>f19421c1d4aa40978ebb69ca19b0e20d</td>\n",
       "      <td>1</td>\n",
       "      <td>1</td>\n",
       "      <td>1</td>\n",
       "      <td>1</td>\n",
       "    </tr>\n",
       "    <tr>\n",
       "      <th>9</th>\n",
       "      <td>2</td>\n",
       "      <td>web,email,mobile</td>\n",
       "      <td>10</td>\n",
       "      <td>7</td>\n",
       "      <td>discount</td>\n",
       "      <td>2906b810c7d4411798c6938adc9daaa5</td>\n",
       "      <td>1</td>\n",
       "      <td>1</td>\n",
       "      <td>0</td>\n",
       "      <td>1</td>\n",
       "    </tr>\n",
       "  </tbody>\n",
       "</table>\n",
       "</div>"
      ],
      "text/plain": [
       "   reward                 channels  difficulty  duration     offer_type  \\\n",
       "0      10      email,mobile,social          10         7           bogo   \n",
       "1      10  web,email,mobile,social          10         5           bogo   \n",
       "2       0         web,email,mobile           0         4  informational   \n",
       "3       5         web,email,mobile           5         7           bogo   \n",
       "4       5                web,email          20        10       discount   \n",
       "5       3  web,email,mobile,social           7         7       discount   \n",
       "6       2  web,email,mobile,social          10        10       discount   \n",
       "7       0      email,mobile,social           0         3  informational   \n",
       "8       5  web,email,mobile,social           5         5           bogo   \n",
       "9       2         web,email,mobile          10         7       discount   \n",
       "\n",
       "                                 id  email  mobile  social  web  \n",
       "0  ae264e3637204a6fb9bb56bc8210ddfd      1       1       1    0  \n",
       "1  4d5c57ea9a6940dd891ad53e9dbe8da0      1       1       1    1  \n",
       "2  3f207df678b143eea3cee63160fa8bed      1       1       0    1  \n",
       "3  9b98b8c7a33c4b65b9aebfe6a799e6d9      1       1       0    1  \n",
       "4  0b1e1539f2cc45b7b9fa7c272da2e1d7      1       0       0    1  \n",
       "5  2298d6c36e964ae4a3e7e9706d1fb8c2      1       1       1    1  \n",
       "6  fafdcd668e3743c1bb461111dcafc2a4      1       1       1    1  \n",
       "7  5a8bc65990b245e5a138643cd4eb9837      1       1       1    0  \n",
       "8  f19421c1d4aa40978ebb69ca19b0e20d      1       1       1    1  \n",
       "9  2906b810c7d4411798c6938adc9daaa5      1       1       0    1  "
      ]
     },
     "execution_count": 6,
     "metadata": {},
     "output_type": "execute_result"
    }
   ],
   "source": [
    "# Take a look on portfolio\n",
    "portfolio"
   ]
  },
  {
   "cell_type": "code",
   "execution_count": 7,
   "metadata": {},
   "outputs": [],
   "source": [
    "# Hot encoding \"offer_type\"\n",
    "offer_types = pd.get_dummies(portfolio['offer_type'])"
   ]
  },
  {
   "cell_type": "code",
   "execution_count": 8,
   "metadata": {},
   "outputs": [],
   "source": [
    "# Concat offer_types to portfolio\n",
    "portfolio = pd.concat([portfolio, offer_types], axis=1, sort=False)"
   ]
  },
  {
   "cell_type": "code",
   "execution_count": 9,
   "metadata": {},
   "outputs": [
    {
     "data": {
      "text/html": [
       "<div>\n",
       "<style scoped>\n",
       "    .dataframe tbody tr th:only-of-type {\n",
       "        vertical-align: middle;\n",
       "    }\n",
       "\n",
       "    .dataframe tbody tr th {\n",
       "        vertical-align: top;\n",
       "    }\n",
       "\n",
       "    .dataframe thead th {\n",
       "        text-align: right;\n",
       "    }\n",
       "</style>\n",
       "<table border=\"1\" class=\"dataframe\">\n",
       "  <thead>\n",
       "    <tr style=\"text-align: right;\">\n",
       "      <th></th>\n",
       "      <th>reward</th>\n",
       "      <th>channels</th>\n",
       "      <th>difficulty</th>\n",
       "      <th>duration</th>\n",
       "      <th>offer_type</th>\n",
       "      <th>id</th>\n",
       "      <th>email</th>\n",
       "      <th>mobile</th>\n",
       "      <th>social</th>\n",
       "      <th>web</th>\n",
       "      <th>bogo</th>\n",
       "      <th>discount</th>\n",
       "      <th>informational</th>\n",
       "    </tr>\n",
       "  </thead>\n",
       "  <tbody>\n",
       "    <tr>\n",
       "      <th>0</th>\n",
       "      <td>10</td>\n",
       "      <td>email,mobile,social</td>\n",
       "      <td>10</td>\n",
       "      <td>7</td>\n",
       "      <td>bogo</td>\n",
       "      <td>ae264e3637204a6fb9bb56bc8210ddfd</td>\n",
       "      <td>1</td>\n",
       "      <td>1</td>\n",
       "      <td>1</td>\n",
       "      <td>0</td>\n",
       "      <td>1</td>\n",
       "      <td>0</td>\n",
       "      <td>0</td>\n",
       "    </tr>\n",
       "    <tr>\n",
       "      <th>1</th>\n",
       "      <td>10</td>\n",
       "      <td>web,email,mobile,social</td>\n",
       "      <td>10</td>\n",
       "      <td>5</td>\n",
       "      <td>bogo</td>\n",
       "      <td>4d5c57ea9a6940dd891ad53e9dbe8da0</td>\n",
       "      <td>1</td>\n",
       "      <td>1</td>\n",
       "      <td>1</td>\n",
       "      <td>1</td>\n",
       "      <td>1</td>\n",
       "      <td>0</td>\n",
       "      <td>0</td>\n",
       "    </tr>\n",
       "    <tr>\n",
       "      <th>2</th>\n",
       "      <td>0</td>\n",
       "      <td>web,email,mobile</td>\n",
       "      <td>0</td>\n",
       "      <td>4</td>\n",
       "      <td>informational</td>\n",
       "      <td>3f207df678b143eea3cee63160fa8bed</td>\n",
       "      <td>1</td>\n",
       "      <td>1</td>\n",
       "      <td>0</td>\n",
       "      <td>1</td>\n",
       "      <td>0</td>\n",
       "      <td>0</td>\n",
       "      <td>1</td>\n",
       "    </tr>\n",
       "    <tr>\n",
       "      <th>3</th>\n",
       "      <td>5</td>\n",
       "      <td>web,email,mobile</td>\n",
       "      <td>5</td>\n",
       "      <td>7</td>\n",
       "      <td>bogo</td>\n",
       "      <td>9b98b8c7a33c4b65b9aebfe6a799e6d9</td>\n",
       "      <td>1</td>\n",
       "      <td>1</td>\n",
       "      <td>0</td>\n",
       "      <td>1</td>\n",
       "      <td>1</td>\n",
       "      <td>0</td>\n",
       "      <td>0</td>\n",
       "    </tr>\n",
       "    <tr>\n",
       "      <th>4</th>\n",
       "      <td>5</td>\n",
       "      <td>web,email</td>\n",
       "      <td>20</td>\n",
       "      <td>10</td>\n",
       "      <td>discount</td>\n",
       "      <td>0b1e1539f2cc45b7b9fa7c272da2e1d7</td>\n",
       "      <td>1</td>\n",
       "      <td>0</td>\n",
       "      <td>0</td>\n",
       "      <td>1</td>\n",
       "      <td>0</td>\n",
       "      <td>1</td>\n",
       "      <td>0</td>\n",
       "    </tr>\n",
       "    <tr>\n",
       "      <th>5</th>\n",
       "      <td>3</td>\n",
       "      <td>web,email,mobile,social</td>\n",
       "      <td>7</td>\n",
       "      <td>7</td>\n",
       "      <td>discount</td>\n",
       "      <td>2298d6c36e964ae4a3e7e9706d1fb8c2</td>\n",
       "      <td>1</td>\n",
       "      <td>1</td>\n",
       "      <td>1</td>\n",
       "      <td>1</td>\n",
       "      <td>0</td>\n",
       "      <td>1</td>\n",
       "      <td>0</td>\n",
       "    </tr>\n",
       "    <tr>\n",
       "      <th>6</th>\n",
       "      <td>2</td>\n",
       "      <td>web,email,mobile,social</td>\n",
       "      <td>10</td>\n",
       "      <td>10</td>\n",
       "      <td>discount</td>\n",
       "      <td>fafdcd668e3743c1bb461111dcafc2a4</td>\n",
       "      <td>1</td>\n",
       "      <td>1</td>\n",
       "      <td>1</td>\n",
       "      <td>1</td>\n",
       "      <td>0</td>\n",
       "      <td>1</td>\n",
       "      <td>0</td>\n",
       "    </tr>\n",
       "    <tr>\n",
       "      <th>7</th>\n",
       "      <td>0</td>\n",
       "      <td>email,mobile,social</td>\n",
       "      <td>0</td>\n",
       "      <td>3</td>\n",
       "      <td>informational</td>\n",
       "      <td>5a8bc65990b245e5a138643cd4eb9837</td>\n",
       "      <td>1</td>\n",
       "      <td>1</td>\n",
       "      <td>1</td>\n",
       "      <td>0</td>\n",
       "      <td>0</td>\n",
       "      <td>0</td>\n",
       "      <td>1</td>\n",
       "    </tr>\n",
       "    <tr>\n",
       "      <th>8</th>\n",
       "      <td>5</td>\n",
       "      <td>web,email,mobile,social</td>\n",
       "      <td>5</td>\n",
       "      <td>5</td>\n",
       "      <td>bogo</td>\n",
       "      <td>f19421c1d4aa40978ebb69ca19b0e20d</td>\n",
       "      <td>1</td>\n",
       "      <td>1</td>\n",
       "      <td>1</td>\n",
       "      <td>1</td>\n",
       "      <td>1</td>\n",
       "      <td>0</td>\n",
       "      <td>0</td>\n",
       "    </tr>\n",
       "    <tr>\n",
       "      <th>9</th>\n",
       "      <td>2</td>\n",
       "      <td>web,email,mobile</td>\n",
       "      <td>10</td>\n",
       "      <td>7</td>\n",
       "      <td>discount</td>\n",
       "      <td>2906b810c7d4411798c6938adc9daaa5</td>\n",
       "      <td>1</td>\n",
       "      <td>1</td>\n",
       "      <td>0</td>\n",
       "      <td>1</td>\n",
       "      <td>0</td>\n",
       "      <td>1</td>\n",
       "      <td>0</td>\n",
       "    </tr>\n",
       "  </tbody>\n",
       "</table>\n",
       "</div>"
      ],
      "text/plain": [
       "   reward                 channels  difficulty  duration     offer_type  \\\n",
       "0      10      email,mobile,social          10         7           bogo   \n",
       "1      10  web,email,mobile,social          10         5           bogo   \n",
       "2       0         web,email,mobile           0         4  informational   \n",
       "3       5         web,email,mobile           5         7           bogo   \n",
       "4       5                web,email          20        10       discount   \n",
       "5       3  web,email,mobile,social           7         7       discount   \n",
       "6       2  web,email,mobile,social          10        10       discount   \n",
       "7       0      email,mobile,social           0         3  informational   \n",
       "8       5  web,email,mobile,social           5         5           bogo   \n",
       "9       2         web,email,mobile          10         7       discount   \n",
       "\n",
       "                                 id  email  mobile  social  web  bogo  \\\n",
       "0  ae264e3637204a6fb9bb56bc8210ddfd      1       1       1    0     1   \n",
       "1  4d5c57ea9a6940dd891ad53e9dbe8da0      1       1       1    1     1   \n",
       "2  3f207df678b143eea3cee63160fa8bed      1       1       0    1     0   \n",
       "3  9b98b8c7a33c4b65b9aebfe6a799e6d9      1       1       0    1     1   \n",
       "4  0b1e1539f2cc45b7b9fa7c272da2e1d7      1       0       0    1     0   \n",
       "5  2298d6c36e964ae4a3e7e9706d1fb8c2      1       1       1    1     0   \n",
       "6  fafdcd668e3743c1bb461111dcafc2a4      1       1       1    1     0   \n",
       "7  5a8bc65990b245e5a138643cd4eb9837      1       1       1    0     0   \n",
       "8  f19421c1d4aa40978ebb69ca19b0e20d      1       1       1    1     1   \n",
       "9  2906b810c7d4411798c6938adc9daaa5      1       1       0    1     0   \n",
       "\n",
       "   discount  informational  \n",
       "0         0              0  \n",
       "1         0              0  \n",
       "2         0              1  \n",
       "3         0              0  \n",
       "4         1              0  \n",
       "5         1              0  \n",
       "6         1              0  \n",
       "7         0              1  \n",
       "8         0              0  \n",
       "9         1              0  "
      ]
     },
     "execution_count": 9,
     "metadata": {},
     "output_type": "execute_result"
    }
   ],
   "source": [
    "# Take a look on portfolio\n",
    "portfolio"
   ]
  },
  {
   "cell_type": "code",
   "execution_count": 10,
   "metadata": {},
   "outputs": [],
   "source": [
    "# Remove the columns no longer needed\n",
    "portfolio = portfolio.drop(columns = ['channels'])\n",
    "portfolio = portfolio.drop(columns = ['offer_type'])"
   ]
  },
  {
   "cell_type": "code",
   "execution_count": 11,
   "metadata": {},
   "outputs": [],
   "source": [
    "# Rename column \"id\"\n",
    "portfolio.rename(columns={'id':'offer_id'}, inplace = True)"
   ]
  },
  {
   "cell_type": "code",
   "execution_count": 12,
   "metadata": {},
   "outputs": [
    {
     "data": {
      "text/html": [
       "<div>\n",
       "<style scoped>\n",
       "    .dataframe tbody tr th:only-of-type {\n",
       "        vertical-align: middle;\n",
       "    }\n",
       "\n",
       "    .dataframe tbody tr th {\n",
       "        vertical-align: top;\n",
       "    }\n",
       "\n",
       "    .dataframe thead th {\n",
       "        text-align: right;\n",
       "    }\n",
       "</style>\n",
       "<table border=\"1\" class=\"dataframe\">\n",
       "  <thead>\n",
       "    <tr style=\"text-align: right;\">\n",
       "      <th></th>\n",
       "      <th>reward</th>\n",
       "      <th>difficulty</th>\n",
       "      <th>duration</th>\n",
       "      <th>offer_id</th>\n",
       "      <th>email</th>\n",
       "      <th>mobile</th>\n",
       "      <th>social</th>\n",
       "      <th>web</th>\n",
       "      <th>bogo</th>\n",
       "      <th>discount</th>\n",
       "      <th>informational</th>\n",
       "    </tr>\n",
       "  </thead>\n",
       "  <tbody>\n",
       "    <tr>\n",
       "      <th>0</th>\n",
       "      <td>10</td>\n",
       "      <td>10</td>\n",
       "      <td>7</td>\n",
       "      <td>ae264e3637204a6fb9bb56bc8210ddfd</td>\n",
       "      <td>1</td>\n",
       "      <td>1</td>\n",
       "      <td>1</td>\n",
       "      <td>0</td>\n",
       "      <td>1</td>\n",
       "      <td>0</td>\n",
       "      <td>0</td>\n",
       "    </tr>\n",
       "    <tr>\n",
       "      <th>1</th>\n",
       "      <td>10</td>\n",
       "      <td>10</td>\n",
       "      <td>5</td>\n",
       "      <td>4d5c57ea9a6940dd891ad53e9dbe8da0</td>\n",
       "      <td>1</td>\n",
       "      <td>1</td>\n",
       "      <td>1</td>\n",
       "      <td>1</td>\n",
       "      <td>1</td>\n",
       "      <td>0</td>\n",
       "      <td>0</td>\n",
       "    </tr>\n",
       "    <tr>\n",
       "      <th>2</th>\n",
       "      <td>0</td>\n",
       "      <td>0</td>\n",
       "      <td>4</td>\n",
       "      <td>3f207df678b143eea3cee63160fa8bed</td>\n",
       "      <td>1</td>\n",
       "      <td>1</td>\n",
       "      <td>0</td>\n",
       "      <td>1</td>\n",
       "      <td>0</td>\n",
       "      <td>0</td>\n",
       "      <td>1</td>\n",
       "    </tr>\n",
       "    <tr>\n",
       "      <th>3</th>\n",
       "      <td>5</td>\n",
       "      <td>5</td>\n",
       "      <td>7</td>\n",
       "      <td>9b98b8c7a33c4b65b9aebfe6a799e6d9</td>\n",
       "      <td>1</td>\n",
       "      <td>1</td>\n",
       "      <td>0</td>\n",
       "      <td>1</td>\n",
       "      <td>1</td>\n",
       "      <td>0</td>\n",
       "      <td>0</td>\n",
       "    </tr>\n",
       "    <tr>\n",
       "      <th>4</th>\n",
       "      <td>5</td>\n",
       "      <td>20</td>\n",
       "      <td>10</td>\n",
       "      <td>0b1e1539f2cc45b7b9fa7c272da2e1d7</td>\n",
       "      <td>1</td>\n",
       "      <td>0</td>\n",
       "      <td>0</td>\n",
       "      <td>1</td>\n",
       "      <td>0</td>\n",
       "      <td>1</td>\n",
       "      <td>0</td>\n",
       "    </tr>\n",
       "    <tr>\n",
       "      <th>5</th>\n",
       "      <td>3</td>\n",
       "      <td>7</td>\n",
       "      <td>7</td>\n",
       "      <td>2298d6c36e964ae4a3e7e9706d1fb8c2</td>\n",
       "      <td>1</td>\n",
       "      <td>1</td>\n",
       "      <td>1</td>\n",
       "      <td>1</td>\n",
       "      <td>0</td>\n",
       "      <td>1</td>\n",
       "      <td>0</td>\n",
       "    </tr>\n",
       "    <tr>\n",
       "      <th>6</th>\n",
       "      <td>2</td>\n",
       "      <td>10</td>\n",
       "      <td>10</td>\n",
       "      <td>fafdcd668e3743c1bb461111dcafc2a4</td>\n",
       "      <td>1</td>\n",
       "      <td>1</td>\n",
       "      <td>1</td>\n",
       "      <td>1</td>\n",
       "      <td>0</td>\n",
       "      <td>1</td>\n",
       "      <td>0</td>\n",
       "    </tr>\n",
       "    <tr>\n",
       "      <th>7</th>\n",
       "      <td>0</td>\n",
       "      <td>0</td>\n",
       "      <td>3</td>\n",
       "      <td>5a8bc65990b245e5a138643cd4eb9837</td>\n",
       "      <td>1</td>\n",
       "      <td>1</td>\n",
       "      <td>1</td>\n",
       "      <td>0</td>\n",
       "      <td>0</td>\n",
       "      <td>0</td>\n",
       "      <td>1</td>\n",
       "    </tr>\n",
       "    <tr>\n",
       "      <th>8</th>\n",
       "      <td>5</td>\n",
       "      <td>5</td>\n",
       "      <td>5</td>\n",
       "      <td>f19421c1d4aa40978ebb69ca19b0e20d</td>\n",
       "      <td>1</td>\n",
       "      <td>1</td>\n",
       "      <td>1</td>\n",
       "      <td>1</td>\n",
       "      <td>1</td>\n",
       "      <td>0</td>\n",
       "      <td>0</td>\n",
       "    </tr>\n",
       "    <tr>\n",
       "      <th>9</th>\n",
       "      <td>2</td>\n",
       "      <td>10</td>\n",
       "      <td>7</td>\n",
       "      <td>2906b810c7d4411798c6938adc9daaa5</td>\n",
       "      <td>1</td>\n",
       "      <td>1</td>\n",
       "      <td>0</td>\n",
       "      <td>1</td>\n",
       "      <td>0</td>\n",
       "      <td>1</td>\n",
       "      <td>0</td>\n",
       "    </tr>\n",
       "  </tbody>\n",
       "</table>\n",
       "</div>"
      ],
      "text/plain": [
       "   reward  difficulty  duration                          offer_id  email  \\\n",
       "0      10          10         7  ae264e3637204a6fb9bb56bc8210ddfd      1   \n",
       "1      10          10         5  4d5c57ea9a6940dd891ad53e9dbe8da0      1   \n",
       "2       0           0         4  3f207df678b143eea3cee63160fa8bed      1   \n",
       "3       5           5         7  9b98b8c7a33c4b65b9aebfe6a799e6d9      1   \n",
       "4       5          20        10  0b1e1539f2cc45b7b9fa7c272da2e1d7      1   \n",
       "5       3           7         7  2298d6c36e964ae4a3e7e9706d1fb8c2      1   \n",
       "6       2          10        10  fafdcd668e3743c1bb461111dcafc2a4      1   \n",
       "7       0           0         3  5a8bc65990b245e5a138643cd4eb9837      1   \n",
       "8       5           5         5  f19421c1d4aa40978ebb69ca19b0e20d      1   \n",
       "9       2          10         7  2906b810c7d4411798c6938adc9daaa5      1   \n",
       "\n",
       "   mobile  social  web  bogo  discount  informational  \n",
       "0       1       1    0     1         0              0  \n",
       "1       1       1    1     1         0              0  \n",
       "2       1       0    1     0         0              1  \n",
       "3       1       0    1     1         0              0  \n",
       "4       0       0    1     0         1              0  \n",
       "5       1       1    1     0         1              0  \n",
       "6       1       1    1     0         1              0  \n",
       "7       1       1    0     0         0              1  \n",
       "8       1       1    1     1         0              0  \n",
       "9       1       0    1     0         1              0  "
      ]
     },
     "execution_count": 12,
     "metadata": {},
     "output_type": "execute_result"
    }
   ],
   "source": [
    "# Take a look on portfolio\n",
    "portfolio"
   ]
  },
  {
   "cell_type": "markdown",
   "metadata": {},
   "source": [
    "#### Investigate profile"
   ]
  },
  {
   "cell_type": "code",
   "execution_count": 13,
   "metadata": {},
   "outputs": [
    {
     "data": {
      "text/html": [
       "<div>\n",
       "<style scoped>\n",
       "    .dataframe tbody tr th:only-of-type {\n",
       "        vertical-align: middle;\n",
       "    }\n",
       "\n",
       "    .dataframe tbody tr th {\n",
       "        vertical-align: top;\n",
       "    }\n",
       "\n",
       "    .dataframe thead th {\n",
       "        text-align: right;\n",
       "    }\n",
       "</style>\n",
       "<table border=\"1\" class=\"dataframe\">\n",
       "  <thead>\n",
       "    <tr style=\"text-align: right;\">\n",
       "      <th></th>\n",
       "      <th>gender</th>\n",
       "      <th>age</th>\n",
       "      <th>id</th>\n",
       "      <th>became_member_on</th>\n",
       "      <th>income</th>\n",
       "    </tr>\n",
       "  </thead>\n",
       "  <tbody>\n",
       "    <tr>\n",
       "      <th>0</th>\n",
       "      <td>None</td>\n",
       "      <td>118</td>\n",
       "      <td>68be06ca386d4c31939f3a4f0e3dd783</td>\n",
       "      <td>20170212</td>\n",
       "      <td>NaN</td>\n",
       "    </tr>\n",
       "    <tr>\n",
       "      <th>1</th>\n",
       "      <td>F</td>\n",
       "      <td>55</td>\n",
       "      <td>0610b486422d4921ae7d2bf64640c50b</td>\n",
       "      <td>20170715</td>\n",
       "      <td>112000.0</td>\n",
       "    </tr>\n",
       "    <tr>\n",
       "      <th>2</th>\n",
       "      <td>None</td>\n",
       "      <td>118</td>\n",
       "      <td>38fe809add3b4fcf9315a9694bb96ff5</td>\n",
       "      <td>20180712</td>\n",
       "      <td>NaN</td>\n",
       "    </tr>\n",
       "    <tr>\n",
       "      <th>3</th>\n",
       "      <td>F</td>\n",
       "      <td>75</td>\n",
       "      <td>78afa995795e4d85b5d9ceeca43f5fef</td>\n",
       "      <td>20170509</td>\n",
       "      <td>100000.0</td>\n",
       "    </tr>\n",
       "    <tr>\n",
       "      <th>4</th>\n",
       "      <td>None</td>\n",
       "      <td>118</td>\n",
       "      <td>a03223e636434f42ac4c3df47e8bac43</td>\n",
       "      <td>20170804</td>\n",
       "      <td>NaN</td>\n",
       "    </tr>\n",
       "  </tbody>\n",
       "</table>\n",
       "</div>"
      ],
      "text/plain": [
       "  gender  age                                id  became_member_on    income\n",
       "0   None  118  68be06ca386d4c31939f3a4f0e3dd783          20170212       NaN\n",
       "1      F   55  0610b486422d4921ae7d2bf64640c50b          20170715  112000.0\n",
       "2   None  118  38fe809add3b4fcf9315a9694bb96ff5          20180712       NaN\n",
       "3      F   75  78afa995795e4d85b5d9ceeca43f5fef          20170509  100000.0\n",
       "4   None  118  a03223e636434f42ac4c3df47e8bac43          20170804       NaN"
      ]
     },
     "execution_count": 13,
     "metadata": {},
     "output_type": "execute_result"
    }
   ],
   "source": [
    "# Now take a look on profile\n",
    "profile.head()"
   ]
  },
  {
   "cell_type": "code",
   "execution_count": 14,
   "metadata": {},
   "outputs": [],
   "source": [
    "# At first rename column \"id\"\n",
    "profile.rename(columns={'id':'customer_id'}, inplace = True)"
   ]
  },
  {
   "cell_type": "code",
   "execution_count": 15,
   "metadata": {},
   "outputs": [
    {
     "name": "stdout",
     "output_type": "stream",
     "text": [
      "<class 'pandas.core.frame.DataFrame'>\n",
      "RangeIndex: 17000 entries, 0 to 16999\n",
      "Data columns (total 5 columns):\n",
      " #   Column            Non-Null Count  Dtype  \n",
      "---  ------            --------------  -----  \n",
      " 0   gender            14825 non-null  object \n",
      " 1   age               17000 non-null  int64  \n",
      " 2   customer_id       17000 non-null  object \n",
      " 3   became_member_on  17000 non-null  int64  \n",
      " 4   income            14825 non-null  float64\n",
      "dtypes: float64(1), int64(2), object(2)\n",
      "memory usage: 664.2+ KB\n"
     ]
    }
   ],
   "source": [
    "# More information about profile\n",
    "profile.info()"
   ]
  },
  {
   "cell_type": "code",
   "execution_count": 16,
   "metadata": {},
   "outputs": [
    {
     "data": {
      "text/plain": [
       "17000"
      ]
     },
     "execution_count": 16,
     "metadata": {},
     "output_type": "execute_result"
    }
   ],
   "source": [
    "# What is the number of unique customer\n",
    "profile.customer_id.nunique()"
   ]
  },
  {
   "cell_type": "code",
   "execution_count": 17,
   "metadata": {},
   "outputs": [
    {
     "data": {
      "image/png": "[encoded data removed]",
      "text/plain": [
       "<Figure size 640x480 with 1 Axes>"
      ]
     },
     "metadata": {},
     "output_type": "display_data"
    }
   ],
   "source": [
    "# Take a closer look on the age distribution\n",
    "plt.hist(profile[\"age\"], bins = 30)\n",
    "plt.title(\"Customers Age Distribution\")\n",
    "plt.xlabel(\"age\")\n",
    "plt.ylabel(\"frequency\")\n",
    "plt.show()"
   ]
  },
  {
   "cell_type": "code",
   "execution_count": 18,
   "metadata": {},
   "outputs": [
    {
     "data": {
      "text/html": [
       "<div>\n",
       "<style scoped>\n",
       "    .dataframe tbody tr th:only-of-type {\n",
       "        vertical-align: middle;\n",
       "    }\n",
       "\n",
       "    .dataframe tbody tr th {\n",
       "        vertical-align: top;\n",
       "    }\n",
       "\n",
       "    .dataframe thead th {\n",
       "        text-align: right;\n",
       "    }\n",
       "</style>\n",
       "<table border=\"1\" class=\"dataframe\">\n",
       "  <thead>\n",
       "    <tr style=\"text-align: right;\">\n",
       "      <th></th>\n",
       "      <th>age</th>\n",
       "      <th>income</th>\n",
       "      <th>gender</th>\n",
       "    </tr>\n",
       "  </thead>\n",
       "  <tbody>\n",
       "    <tr>\n",
       "      <th>0</th>\n",
       "      <td>118</td>\n",
       "      <td>NaN</td>\n",
       "      <td>None</td>\n",
       "    </tr>\n",
       "    <tr>\n",
       "      <th>2</th>\n",
       "      <td>118</td>\n",
       "      <td>NaN</td>\n",
       "      <td>None</td>\n",
       "    </tr>\n",
       "    <tr>\n",
       "      <th>4</th>\n",
       "      <td>118</td>\n",
       "      <td>NaN</td>\n",
       "      <td>None</td>\n",
       "    </tr>\n",
       "    <tr>\n",
       "      <th>6</th>\n",
       "      <td>118</td>\n",
       "      <td>NaN</td>\n",
       "      <td>None</td>\n",
       "    </tr>\n",
       "    <tr>\n",
       "      <th>7</th>\n",
       "      <td>118</td>\n",
       "      <td>NaN</td>\n",
       "      <td>None</td>\n",
       "    </tr>\n",
       "  </tbody>\n",
       "</table>\n",
       "</div>"
      ],
      "text/plain": [
       "   age  income gender\n",
       "0  118     NaN   None\n",
       "2  118     NaN   None\n",
       "4  118     NaN   None\n",
       "6  118     NaN   None\n",
       "7  118     NaN   None"
      ]
     },
     "execution_count": 18,
     "metadata": {},
     "output_type": "execute_result"
    }
   ],
   "source": [
    "# Take a look on datasets with age = 118, first 5 rows\n",
    "profile[profile.age == 118][['age', 'income', 'gender']][:5]"
   ]
  },
  {
   "cell_type": "code",
   "execution_count": 19,
   "metadata": {},
   "outputs": [
    {
     "data": {
      "text/html": [
       "<div>\n",
       "<style scoped>\n",
       "    .dataframe tbody tr th:only-of-type {\n",
       "        vertical-align: middle;\n",
       "    }\n",
       "\n",
       "    .dataframe tbody tr th {\n",
       "        vertical-align: top;\n",
       "    }\n",
       "\n",
       "    .dataframe thead th {\n",
       "        text-align: right;\n",
       "    }\n",
       "</style>\n",
       "<table border=\"1\" class=\"dataframe\">\n",
       "  <thead>\n",
       "    <tr style=\"text-align: right;\">\n",
       "      <th></th>\n",
       "      <th>age</th>\n",
       "      <th>income</th>\n",
       "      <th>gender</th>\n",
       "    </tr>\n",
       "  </thead>\n",
       "  <tbody>\n",
       "    <tr>\n",
       "      <th>16980</th>\n",
       "      <td>118</td>\n",
       "      <td>NaN</td>\n",
       "      <td>None</td>\n",
       "    </tr>\n",
       "    <tr>\n",
       "      <th>16982</th>\n",
       "      <td>118</td>\n",
       "      <td>NaN</td>\n",
       "      <td>None</td>\n",
       "    </tr>\n",
       "    <tr>\n",
       "      <th>16989</th>\n",
       "      <td>118</td>\n",
       "      <td>NaN</td>\n",
       "      <td>None</td>\n",
       "    </tr>\n",
       "    <tr>\n",
       "      <th>16991</th>\n",
       "      <td>118</td>\n",
       "      <td>NaN</td>\n",
       "      <td>None</td>\n",
       "    </tr>\n",
       "    <tr>\n",
       "      <th>16994</th>\n",
       "      <td>118</td>\n",
       "      <td>NaN</td>\n",
       "      <td>None</td>\n",
       "    </tr>\n",
       "  </tbody>\n",
       "</table>\n",
       "</div>"
      ],
      "text/plain": [
       "       age  income gender\n",
       "16980  118     NaN   None\n",
       "16982  118     NaN   None\n",
       "16989  118     NaN   None\n",
       "16991  118     NaN   None\n",
       "16994  118     NaN   None"
      ]
     },
     "execution_count": 19,
     "metadata": {},
     "output_type": "execute_result"
    }
   ],
   "source": [
    "# Take a look on datasets with age = 118, last 5 rows\n",
    "profile[profile.age == 118][['age', 'income', 'gender']][-5:]"
   ]
  },
  {
   "cell_type": "code",
   "execution_count": 20,
   "metadata": {},
   "outputs": [
    {
     "data": {
      "text/plain": [
       "gender              2175\n",
       "age                    0\n",
       "customer_id            0\n",
       "became_member_on       0\n",
       "income              2175\n",
       "dtype: int64"
      ]
     },
     "execution_count": 20,
     "metadata": {},
     "output_type": "execute_result"
    }
   ],
   "source": [
    "# Null values in profile\n",
    "profile.isnull().sum()"
   ]
  },
  {
   "cell_type": "code",
   "execution_count": 21,
   "metadata": {},
   "outputs": [
    {
     "data": {
      "text/plain": [
       "2175"
      ]
     },
     "execution_count": 21,
     "metadata": {},
     "output_type": "execute_result"
    }
   ],
   "source": [
    "# Datasets with age > 101\n",
    "profile.age[profile['age'] > 101].count()"
   ]
  },
  {
   "cell_type": "markdown",
   "metadata": {},
   "source": [
    "It appears that in all records with age > 101, the values ​​for gender and income are None and Nans (null values), respectively. Also, the datasets with age > 101 appear to be outliers. All records with age > 101 have the value age = 118. To remove the null values ​​from profile, age = 118 is set to NaN and then the null values ​​are removed from profile. "
   ]
  },
  {
   "cell_type": "code",
   "execution_count": 22,
   "metadata": {},
   "outputs": [],
   "source": [
    "# Set age = NaN for age = 118\n",
    "profile.loc[profile.age == 118,'age'] = np.nan"
   ]
  },
  {
   "cell_type": "code",
   "execution_count": 23,
   "metadata": {},
   "outputs": [
    {
     "data": {
      "text/plain": [
       "gender              2175\n",
       "age                 2175\n",
       "customer_id            0\n",
       "became_member_on       0\n",
       "income              2175\n",
       "dtype: int64"
      ]
     },
     "execution_count": 23,
     "metadata": {},
     "output_type": "execute_result"
    }
   ],
   "source": [
    "# Null values in profile\n",
    "profile.isnull().sum()"
   ]
  },
  {
   "cell_type": "code",
   "execution_count": 24,
   "metadata": {},
   "outputs": [],
   "source": [
    "# Remove null values from profile\n",
    "profile.dropna(inplace = True)"
   ]
  },
  {
   "cell_type": "code",
   "execution_count": 25,
   "metadata": {},
   "outputs": [
    {
     "data": {
      "text/plain": [
       "gender              0\n",
       "age                 0\n",
       "customer_id         0\n",
       "became_member_on    0\n",
       "income              0\n",
       "dtype: int64"
      ]
     },
     "execution_count": 25,
     "metadata": {},
     "output_type": "execute_result"
    }
   ],
   "source": [
    "# Check null values in profile\n",
    "profile.isnull().sum()"
   ]
  },
  {
   "cell_type": "code",
   "execution_count": 26,
   "metadata": {},
   "outputs": [
    {
     "data": {
      "text/plain": [
       "M    8484\n",
       "F    6129\n",
       "O     212\n",
       "Name: gender, dtype: int64"
      ]
     },
     "execution_count": 26,
     "metadata": {},
     "output_type": "execute_result"
    }
   ],
   "source": [
    "# Distribution of gender\n",
    "profile.gender.value_counts()"
   ]
  },
  {
   "cell_type": "code",
   "execution_count": 27,
   "metadata": {},
   "outputs": [
    {
     "data": {
      "image/png": "[encoded data removed]",
      "text/plain": [
       "<Figure size 2000x500 with 4 Axes>"
      ]
     },
     "metadata": {},
     "output_type": "display_data"
    }
   ],
   "source": [
    "# Take a look on the age distribution by gender\n",
    "fig, ax = plt.subplots(1, 4, figsize=(20,5))\n",
    "plt.sca(ax[0])\n",
    "plt.hist(profile['age'], bins = 30)\n",
    "plt.title('All gender')\n",
    "plt.xlabel('Age')\n",
    "plt.ylabel('Frequency')\n",
    "\n",
    "plt.sca(ax[1])\n",
    "plt.hist(profile['age'][profile['gender'] == 'M'], bins = 30)\n",
    "plt.title('Males')\n",
    "plt.xlabel('Age')\n",
    "plt.ylabel('Frequency')\n",
    "\n",
    "plt.sca(ax[2])\n",
    "plt.hist(profile['age'][profile['gender'] == 'F'], bins = 30)\n",
    "plt.title('Females')\n",
    "plt.xlabel('Age')\n",
    "plt.ylabel('Frequency')\n",
    "\n",
    "plt.sca(ax[3])\n",
    "plt.hist(profile['age'][profile['gender'] == 'O'], bins = 30)\n",
    "plt.title('Other')\n",
    "plt.xlabel('Age')\n",
    "plt.ylabel('Frequency')\n",
    "\n",
    "fig.suptitle('Customers Age Distribution by gender', fontsize='x-large')\n",
    "fig.subplots_adjust(top = 0.8)"
   ]
  },
  {
   "cell_type": "code",
   "execution_count": 28,
   "metadata": {},
   "outputs": [
    {
     "name": "stdout",
     "output_type": "stream",
     "text": [
      "The mean age by all gender is 51.2 years\n",
      "The mean age by males is 48.8 years\n",
      "The mean age by females is 54.7 years\n",
      "The mean age by other is 51.7 years\n"
     ]
    }
   ],
   "source": [
    "# What are the mean ages in profile by gender\n",
    "mean_age_all = gmean(profile['age'])\n",
    "\n",
    "profile_male = profile.loc[profile['gender'] == 'M']\n",
    "mean_age_male = gmean(profile_male['age'])\n",
    "\n",
    "profile_female = profile.loc[profile['gender'] == 'F']\n",
    "mean_age_female = gmean(profile_female['age'])\n",
    "\n",
    "profile_other = profile.loc[profile['gender'] == 'O']\n",
    "mean_age_other = gmean(profile_other['age'])\n",
    "\n",
    "print(\"The mean age by all gender is {:.1f} years\".format(mean_age_all))\n",
    "print(\"The mean age by males is {:.1f} years\".format(mean_age_male))   \n",
    "print(\"The mean age by females is {:.1f} years\".format(mean_age_female))\n",
    "print(\"The mean age by other is {:.1f} years\".format(mean_age_other))"
   ]
  },
  {
   "cell_type": "code",
   "execution_count": 29,
   "metadata": {},
   "outputs": [
    {
     "data": {
      "image/png": "[encoded data removed]",
      "text/plain": [
       "<Figure size 2000x500 with 4 Axes>"
      ]
     },
     "metadata": {},
     "output_type": "display_data"
    }
   ],
   "source": [
    "# Take a look on the income distribution by gender\n",
    "fig, ax = plt.subplots(1, 4, figsize=(20,5))\n",
    "plt.sca(ax[0])\n",
    "plt.hist(profile['income'], bins = 50)\n",
    "plt.title('All gender')\n",
    "plt.xlabel('Income')\n",
    "plt.ylabel('Frequency')\n",
    "\n",
    "plt.sca(ax[1])\n",
    "plt.hist(profile['income'][profile['gender'] == 'M'], bins = 50)\n",
    "plt.title('Males')\n",
    "plt.xlabel('Income')\n",
    "plt.ylabel('Frequency')\n",
    "\n",
    "plt.sca(ax[2])\n",
    "plt.hist(profile['income'][profile['gender'] == 'F'], bins = 50)\n",
    "plt.title('Females')\n",
    "plt.xlabel('Income')\n",
    "plt.ylabel('Frequency')\n",
    "\n",
    "plt.sca(ax[3])\n",
    "plt.hist(profile['income'][profile['gender'] == 'O'], bins = 50)\n",
    "plt.title('Other')\n",
    "plt.xlabel('Income')\n",
    "plt.ylabel('Frequency')\n",
    "\n",
    "fig.suptitle('Customers income Distribution by gender', fontsize='x-large')\n",
    "fig.subplots_adjust(top = 0.8)"
   ]
  },
  {
   "cell_type": "code",
   "execution_count": 30,
   "metadata": {},
   "outputs": [
    {
     "name": "stdout",
     "output_type": "stream",
     "text": [
      "The mean income by all gender is 61814.1\n",
      "The mean income by males is 57987.8\n",
      "The mean income by females is 67589.8\n",
      "The mean income by other is 60266.0\n"
     ]
    }
   ],
   "source": [
    "# What are the mean incomes in profile by gender\n",
    "mean_income_all = gmean(profile['income'])\n",
    "\n",
    "profile_male = profile.loc[profile['gender'] == 'M']\n",
    "mean_income_male = gmean(profile_male['income'])\n",
    "\n",
    "profile_female = profile.loc[profile['gender'] == 'F']\n",
    "mean_income_female = gmean(profile_female['income'])\n",
    "\n",
    "profile_other = profile.loc[profile['gender'] == 'O']\n",
    "mean_income_other = gmean(profile_other['income'])\n",
    "\n",
    "print(\"The mean income by all gender is {:.1f}\".format(mean_income_all))\n",
    "print(\"The mean income by males is {:.1f}\".format(mean_income_male))   \n",
    "print(\"The mean income by females is {:.1f}\".format(mean_income_female))\n",
    "print(\"The mean income by other is {:.1f}\".format(mean_income_other))"
   ]
  },
  {
   "cell_type": "code",
   "execution_count": 31,
   "metadata": {},
   "outputs": [
    {
     "data": {
      "text/html": [
       "<div>\n",
       "<style scoped>\n",
       "    .dataframe tbody tr th:only-of-type {\n",
       "        vertical-align: middle;\n",
       "    }\n",
       "\n",
       "    .dataframe tbody tr th {\n",
       "        vertical-align: top;\n",
       "    }\n",
       "\n",
       "    .dataframe thead th {\n",
       "        text-align: right;\n",
       "    }\n",
       "</style>\n",
       "<table border=\"1\" class=\"dataframe\">\n",
       "  <thead>\n",
       "    <tr style=\"text-align: right;\">\n",
       "      <th></th>\n",
       "      <th>gender</th>\n",
       "      <th>age</th>\n",
       "      <th>customer_id</th>\n",
       "      <th>became_member_on</th>\n",
       "      <th>income</th>\n",
       "    </tr>\n",
       "  </thead>\n",
       "  <tbody>\n",
       "    <tr>\n",
       "      <th>1</th>\n",
       "      <td>F</td>\n",
       "      <td>55.0</td>\n",
       "      <td>0610b486422d4921ae7d2bf64640c50b</td>\n",
       "      <td>20170715</td>\n",
       "      <td>112000.0</td>\n",
       "    </tr>\n",
       "    <tr>\n",
       "      <th>3</th>\n",
       "      <td>F</td>\n",
       "      <td>75.0</td>\n",
       "      <td>78afa995795e4d85b5d9ceeca43f5fef</td>\n",
       "      <td>20170509</td>\n",
       "      <td>100000.0</td>\n",
       "    </tr>\n",
       "    <tr>\n",
       "      <th>5</th>\n",
       "      <td>M</td>\n",
       "      <td>68.0</td>\n",
       "      <td>e2127556f4f64592b11af22de27a7932</td>\n",
       "      <td>20180426</td>\n",
       "      <td>70000.0</td>\n",
       "    </tr>\n",
       "    <tr>\n",
       "      <th>8</th>\n",
       "      <td>M</td>\n",
       "      <td>65.0</td>\n",
       "      <td>389bc3fa690240e798340f5a15918d5c</td>\n",
       "      <td>20180209</td>\n",
       "      <td>53000.0</td>\n",
       "    </tr>\n",
       "    <tr>\n",
       "      <th>12</th>\n",
       "      <td>M</td>\n",
       "      <td>58.0</td>\n",
       "      <td>2eeac8d8feae4a8cad5a6af0499a211d</td>\n",
       "      <td>20171111</td>\n",
       "      <td>51000.0</td>\n",
       "    </tr>\n",
       "  </tbody>\n",
       "</table>\n",
       "</div>"
      ],
      "text/plain": [
       "   gender   age                       customer_id  became_member_on    income\n",
       "1       F  55.0  0610b486422d4921ae7d2bf64640c50b          20170715  112000.0\n",
       "3       F  75.0  78afa995795e4d85b5d9ceeca43f5fef          20170509  100000.0\n",
       "5       M  68.0  e2127556f4f64592b11af22de27a7932          20180426   70000.0\n",
       "8       M  65.0  389bc3fa690240e798340f5a15918d5c          20180209   53000.0\n",
       "12      M  58.0  2eeac8d8feae4a8cad5a6af0499a211d          20171111   51000.0"
      ]
     },
     "execution_count": 31,
     "metadata": {},
     "output_type": "execute_result"
    }
   ],
   "source": [
    "# Now take a look on profile\n",
    "profile.head()"
   ]
  },
  {
   "cell_type": "markdown",
   "metadata": {},
   "source": [
    "#### Investigate transcript"
   ]
  },
  {
   "cell_type": "code",
   "execution_count": 32,
   "metadata": {},
   "outputs": [
    {
     "data": {
      "text/html": [
       "<div>\n",
       "<style scoped>\n",
       "    .dataframe tbody tr th:only-of-type {\n",
       "        vertical-align: middle;\n",
       "    }\n",
       "\n",
       "    .dataframe tbody tr th {\n",
       "        vertical-align: top;\n",
       "    }\n",
       "\n",
       "    .dataframe thead th {\n",
       "        text-align: right;\n",
       "    }\n",
       "</style>\n",
       "<table border=\"1\" class=\"dataframe\">\n",
       "  <thead>\n",
       "    <tr style=\"text-align: right;\">\n",
       "      <th></th>\n",
       "      <th>person</th>\n",
       "      <th>event</th>\n",
       "      <th>value</th>\n",
       "      <th>time</th>\n",
       "    </tr>\n",
       "  </thead>\n",
       "  <tbody>\n",
       "    <tr>\n",
       "      <th>0</th>\n",
       "      <td>78afa995795e4d85b5d9ceeca43f5fef</td>\n",
       "      <td>offer received</td>\n",
       "      <td>{'offer id': '9b98b8c7a33c4b65b9aebfe6a799e6d9'}</td>\n",
       "      <td>0</td>\n",
       "    </tr>\n",
       "    <tr>\n",
       "      <th>1</th>\n",
       "      <td>a03223e636434f42ac4c3df47e8bac43</td>\n",
       "      <td>offer received</td>\n",
       "      <td>{'offer id': '0b1e1539f2cc45b7b9fa7c272da2e1d7'}</td>\n",
       "      <td>0</td>\n",
       "    </tr>\n",
       "    <tr>\n",
       "      <th>2</th>\n",
       "      <td>e2127556f4f64592b11af22de27a7932</td>\n",
       "      <td>offer received</td>\n",
       "      <td>{'offer id': '2906b810c7d4411798c6938adc9daaa5'}</td>\n",
       "      <td>0</td>\n",
       "    </tr>\n",
       "    <tr>\n",
       "      <th>3</th>\n",
       "      <td>8ec6ce2a7e7949b1bf142def7d0e0586</td>\n",
       "      <td>offer received</td>\n",
       "      <td>{'offer id': 'fafdcd668e3743c1bb461111dcafc2a4'}</td>\n",
       "      <td>0</td>\n",
       "    </tr>\n",
       "    <tr>\n",
       "      <th>4</th>\n",
       "      <td>68617ca6246f4fbc85e91a2a49552598</td>\n",
       "      <td>offer received</td>\n",
       "      <td>{'offer id': '4d5c57ea9a6940dd891ad53e9dbe8da0'}</td>\n",
       "      <td>0</td>\n",
       "    </tr>\n",
       "  </tbody>\n",
       "</table>\n",
       "</div>"
      ],
      "text/plain": [
       "                             person           event  \\\n",
       "0  78afa995795e4d85b5d9ceeca43f5fef  offer received   \n",
       "1  a03223e636434f42ac4c3df47e8bac43  offer received   \n",
       "2  e2127556f4f64592b11af22de27a7932  offer received   \n",
       "3  8ec6ce2a7e7949b1bf142def7d0e0586  offer received   \n",
       "4  68617ca6246f4fbc85e91a2a49552598  offer received   \n",
       "\n",
       "                                              value  time  \n",
       "0  {'offer id': '9b98b8c7a33c4b65b9aebfe6a799e6d9'}     0  \n",
       "1  {'offer id': '0b1e1539f2cc45b7b9fa7c272da2e1d7'}     0  \n",
       "2  {'offer id': '2906b810c7d4411798c6938adc9daaa5'}     0  \n",
       "3  {'offer id': 'fafdcd668e3743c1bb461111dcafc2a4'}     0  \n",
       "4  {'offer id': '4d5c57ea9a6940dd891ad53e9dbe8da0'}     0  "
      ]
     },
     "execution_count": 32,
     "metadata": {},
     "output_type": "execute_result"
    }
   ],
   "source": [
    "# Take a look on transcript\n",
    "transcript.head()"
   ]
  },
  {
   "cell_type": "code",
   "execution_count": 33,
   "metadata": {},
   "outputs": [
    {
     "data": {
      "text/plain": [
       "person    0\n",
       "event     0\n",
       "value     0\n",
       "time      0\n",
       "dtype: int64"
      ]
     },
     "execution_count": 33,
     "metadata": {},
     "output_type": "execute_result"
    }
   ],
   "source": [
    "# Check on missing value\n",
    "transcript.isnull().sum()"
   ]
  },
  {
   "cell_type": "code",
   "execution_count": 34,
   "metadata": {},
   "outputs": [],
   "source": [
    "# Rename column \"person\"\n",
    "transcript.rename(columns={'person':'customer_id'}, inplace = True)"
   ]
  },
  {
   "cell_type": "code",
   "execution_count": 35,
   "metadata": {},
   "outputs": [
    {
     "data": {
      "text/plain": [
       "offer id    134002\n",
       "amount      138953\n",
       "offer_id     33579\n",
       "reward       33579\n",
       "dtype: int64"
      ]
     },
     "execution_count": 35,
     "metadata": {},
     "output_type": "execute_result"
    }
   ],
   "source": [
    "# Extract \"value\"\n",
    "value = pd.json_normalize(transcript['value'])\n",
    "transcript = pd.concat([transcript, value], axis=1)\n",
    "value.count()"
   ]
  },
  {
   "cell_type": "code",
   "execution_count": 36,
   "metadata": {},
   "outputs": [],
   "source": [
    "# Hot encoding \"event\"\n",
    "events = pd.get_dummies(transcript['event'])"
   ]
  },
  {
   "cell_type": "code",
   "execution_count": 37,
   "metadata": {},
   "outputs": [],
   "source": [
    "# Concat events to transcript\n",
    "transcript = pd.concat([transcript, events], axis=1, sort=False)"
   ]
  },
  {
   "cell_type": "code",
   "execution_count": 38,
   "metadata": {},
   "outputs": [
    {
     "data": {
      "text/html": [
       "<div>\n",
       "<style scoped>\n",
       "    .dataframe tbody tr th:only-of-type {\n",
       "        vertical-align: middle;\n",
       "    }\n",
       "\n",
       "    .dataframe tbody tr th {\n",
       "        vertical-align: top;\n",
       "    }\n",
       "\n",
       "    .dataframe thead th {\n",
       "        text-align: right;\n",
       "    }\n",
       "</style>\n",
       "<table border=\"1\" class=\"dataframe\">\n",
       "  <thead>\n",
       "    <tr style=\"text-align: right;\">\n",
       "      <th></th>\n",
       "      <th>customer_id</th>\n",
       "      <th>event</th>\n",
       "      <th>value</th>\n",
       "      <th>time</th>\n",
       "      <th>offer id</th>\n",
       "      <th>amount</th>\n",
       "      <th>offer_id</th>\n",
       "      <th>reward</th>\n",
       "      <th>offer completed</th>\n",
       "      <th>offer received</th>\n",
       "      <th>offer viewed</th>\n",
       "      <th>transaction</th>\n",
       "    </tr>\n",
       "  </thead>\n",
       "  <tbody>\n",
       "    <tr>\n",
       "      <th>0</th>\n",
       "      <td>78afa995795e4d85b5d9ceeca43f5fef</td>\n",
       "      <td>offer received</td>\n",
       "      <td>{'offer id': '9b98b8c7a33c4b65b9aebfe6a799e6d9'}</td>\n",
       "      <td>0</td>\n",
       "      <td>9b98b8c7a33c4b65b9aebfe6a799e6d9</td>\n",
       "      <td>NaN</td>\n",
       "      <td>NaN</td>\n",
       "      <td>NaN</td>\n",
       "      <td>0</td>\n",
       "      <td>1</td>\n",
       "      <td>0</td>\n",
       "      <td>0</td>\n",
       "    </tr>\n",
       "    <tr>\n",
       "      <th>1</th>\n",
       "      <td>a03223e636434f42ac4c3df47e8bac43</td>\n",
       "      <td>offer received</td>\n",
       "      <td>{'offer id': '0b1e1539f2cc45b7b9fa7c272da2e1d7'}</td>\n",
       "      <td>0</td>\n",
       "      <td>0b1e1539f2cc45b7b9fa7c272da2e1d7</td>\n",
       "      <td>NaN</td>\n",
       "      <td>NaN</td>\n",
       "      <td>NaN</td>\n",
       "      <td>0</td>\n",
       "      <td>1</td>\n",
       "      <td>0</td>\n",
       "      <td>0</td>\n",
       "    </tr>\n",
       "    <tr>\n",
       "      <th>2</th>\n",
       "      <td>e2127556f4f64592b11af22de27a7932</td>\n",
       "      <td>offer received</td>\n",
       "      <td>{'offer id': '2906b810c7d4411798c6938adc9daaa5'}</td>\n",
       "      <td>0</td>\n",
       "      <td>2906b810c7d4411798c6938adc9daaa5</td>\n",
       "      <td>NaN</td>\n",
       "      <td>NaN</td>\n",
       "      <td>NaN</td>\n",
       "      <td>0</td>\n",
       "      <td>1</td>\n",
       "      <td>0</td>\n",
       "      <td>0</td>\n",
       "    </tr>\n",
       "    <tr>\n",
       "      <th>3</th>\n",
       "      <td>8ec6ce2a7e7949b1bf142def7d0e0586</td>\n",
       "      <td>offer received</td>\n",
       "      <td>{'offer id': 'fafdcd668e3743c1bb461111dcafc2a4'}</td>\n",
       "      <td>0</td>\n",
       "      <td>fafdcd668e3743c1bb461111dcafc2a4</td>\n",
       "      <td>NaN</td>\n",
       "      <td>NaN</td>\n",
       "      <td>NaN</td>\n",
       "      <td>0</td>\n",
       "      <td>1</td>\n",
       "      <td>0</td>\n",
       "      <td>0</td>\n",
       "    </tr>\n",
       "    <tr>\n",
       "      <th>4</th>\n",
       "      <td>68617ca6246f4fbc85e91a2a49552598</td>\n",
       "      <td>offer received</td>\n",
       "      <td>{'offer id': '4d5c57ea9a6940dd891ad53e9dbe8da0'}</td>\n",
       "      <td>0</td>\n",
       "      <td>4d5c57ea9a6940dd891ad53e9dbe8da0</td>\n",
       "      <td>NaN</td>\n",
       "      <td>NaN</td>\n",
       "      <td>NaN</td>\n",
       "      <td>0</td>\n",
       "      <td>1</td>\n",
       "      <td>0</td>\n",
       "      <td>0</td>\n",
       "    </tr>\n",
       "  </tbody>\n",
       "</table>\n",
       "</div>"
      ],
      "text/plain": [
       "                        customer_id           event  \\\n",
       "0  78afa995795e4d85b5d9ceeca43f5fef  offer received   \n",
       "1  a03223e636434f42ac4c3df47e8bac43  offer received   \n",
       "2  e2127556f4f64592b11af22de27a7932  offer received   \n",
       "3  8ec6ce2a7e7949b1bf142def7d0e0586  offer received   \n",
       "4  68617ca6246f4fbc85e91a2a49552598  offer received   \n",
       "\n",
       "                                              value  time  \\\n",
       "0  {'offer id': '9b98b8c7a33c4b65b9aebfe6a799e6d9'}     0   \n",
       "1  {'offer id': '0b1e1539f2cc45b7b9fa7c272da2e1d7'}     0   \n",
       "2  {'offer id': '2906b810c7d4411798c6938adc9daaa5'}     0   \n",
       "3  {'offer id': 'fafdcd668e3743c1bb461111dcafc2a4'}     0   \n",
       "4  {'offer id': '4d5c57ea9a6940dd891ad53e9dbe8da0'}     0   \n",
       "\n",
       "                           offer id  amount offer_id  reward  offer completed  \\\n",
       "0  9b98b8c7a33c4b65b9aebfe6a799e6d9     NaN      NaN     NaN                0   \n",
       "1  0b1e1539f2cc45b7b9fa7c272da2e1d7     NaN      NaN     NaN                0   \n",
       "2  2906b810c7d4411798c6938adc9daaa5     NaN      NaN     NaN                0   \n",
       "3  fafdcd668e3743c1bb461111dcafc2a4     NaN      NaN     NaN                0   \n",
       "4  4d5c57ea9a6940dd891ad53e9dbe8da0     NaN      NaN     NaN                0   \n",
       "\n",
       "   offer received  offer viewed  transaction  \n",
       "0               1             0            0  \n",
       "1               1             0            0  \n",
       "2               1             0            0  \n",
       "3               1             0            0  \n",
       "4               1             0            0  "
      ]
     },
     "execution_count": 38,
     "metadata": {},
     "output_type": "execute_result"
    }
   ],
   "source": [
    "transcript.head()"
   ]
  },
  {
   "cell_type": "code",
   "execution_count": 39,
   "metadata": {},
   "outputs": [
    {
     "data": {
      "text/plain": [
       "customer_id             0\n",
       "event                   0\n",
       "value                   0\n",
       "time                    0\n",
       "offer id           172532\n",
       "amount             167581\n",
       "offer_id           272955\n",
       "reward             272955\n",
       "offer completed         0\n",
       "offer received          0\n",
       "offer viewed            0\n",
       "transaction             0\n",
       "dtype: int64"
      ]
     },
     "execution_count": 39,
     "metadata": {},
     "output_type": "execute_result"
    }
   ],
   "source": [
    "# Check on missing value after extracting\n",
    "transcript.isnull().sum()"
   ]
  },
  {
   "cell_type": "code",
   "execution_count": 40,
   "metadata": {},
   "outputs": [],
   "source": [
    "# Merge offer_id column and offer id column\n",
    "transcript['offer_id'] = np.where(pd.isnull(transcript['offer_id']), transcript['offer id'], transcript['offer_id'])"
   ]
  },
  {
   "cell_type": "code",
   "execution_count": 41,
   "metadata": {},
   "outputs": [],
   "source": [
    "# Remove the columns no longer needed\n",
    "transcript = transcript.drop(columns = ['value'])\n",
    "transcript = transcript.drop(columns = ['offer id'])\n",
    "transcript = transcript.drop(columns = ['event'])"
   ]
  },
  {
   "cell_type": "code",
   "execution_count": 42,
   "metadata": {},
   "outputs": [
    {
     "data": {
      "text/html": [
       "<div>\n",
       "<style scoped>\n",
       "    .dataframe tbody tr th:only-of-type {\n",
       "        vertical-align: middle;\n",
       "    }\n",
       "\n",
       "    .dataframe tbody tr th {\n",
       "        vertical-align: top;\n",
       "    }\n",
       "\n",
       "    .dataframe thead th {\n",
       "        text-align: right;\n",
       "    }\n",
       "</style>\n",
       "<table border=\"1\" class=\"dataframe\">\n",
       "  <thead>\n",
       "    <tr style=\"text-align: right;\">\n",
       "      <th></th>\n",
       "      <th>customer_id</th>\n",
       "      <th>time</th>\n",
       "      <th>amount</th>\n",
       "      <th>offer_id</th>\n",
       "      <th>reward</th>\n",
       "      <th>offer completed</th>\n",
       "      <th>offer received</th>\n",
       "      <th>offer viewed</th>\n",
       "      <th>transaction</th>\n",
       "    </tr>\n",
       "  </thead>\n",
       "  <tbody>\n",
       "    <tr>\n",
       "      <th>0</th>\n",
       "      <td>78afa995795e4d85b5d9ceeca43f5fef</td>\n",
       "      <td>0</td>\n",
       "      <td>0.0</td>\n",
       "      <td>9b98b8c7a33c4b65b9aebfe6a799e6d9</td>\n",
       "      <td>0.0</td>\n",
       "      <td>0</td>\n",
       "      <td>1</td>\n",
       "      <td>0</td>\n",
       "      <td>0</td>\n",
       "    </tr>\n",
       "    <tr>\n",
       "      <th>1</th>\n",
       "      <td>a03223e636434f42ac4c3df47e8bac43</td>\n",
       "      <td>0</td>\n",
       "      <td>0.0</td>\n",
       "      <td>0b1e1539f2cc45b7b9fa7c272da2e1d7</td>\n",
       "      <td>0.0</td>\n",
       "      <td>0</td>\n",
       "      <td>1</td>\n",
       "      <td>0</td>\n",
       "      <td>0</td>\n",
       "    </tr>\n",
       "    <tr>\n",
       "      <th>2</th>\n",
       "      <td>e2127556f4f64592b11af22de27a7932</td>\n",
       "      <td>0</td>\n",
       "      <td>0.0</td>\n",
       "      <td>2906b810c7d4411798c6938adc9daaa5</td>\n",
       "      <td>0.0</td>\n",
       "      <td>0</td>\n",
       "      <td>1</td>\n",
       "      <td>0</td>\n",
       "      <td>0</td>\n",
       "    </tr>\n",
       "    <tr>\n",
       "      <th>3</th>\n",
       "      <td>8ec6ce2a7e7949b1bf142def7d0e0586</td>\n",
       "      <td>0</td>\n",
       "      <td>0.0</td>\n",
       "      <td>fafdcd668e3743c1bb461111dcafc2a4</td>\n",
       "      <td>0.0</td>\n",
       "      <td>0</td>\n",
       "      <td>1</td>\n",
       "      <td>0</td>\n",
       "      <td>0</td>\n",
       "    </tr>\n",
       "    <tr>\n",
       "      <th>4</th>\n",
       "      <td>68617ca6246f4fbc85e91a2a49552598</td>\n",
       "      <td>0</td>\n",
       "      <td>0.0</td>\n",
       "      <td>4d5c57ea9a6940dd891ad53e9dbe8da0</td>\n",
       "      <td>0.0</td>\n",
       "      <td>0</td>\n",
       "      <td>1</td>\n",
       "      <td>0</td>\n",
       "      <td>0</td>\n",
       "    </tr>\n",
       "  </tbody>\n",
       "</table>\n",
       "</div>"
      ],
      "text/plain": [
       "                        customer_id  time  amount  \\\n",
       "0  78afa995795e4d85b5d9ceeca43f5fef     0     0.0   \n",
       "1  a03223e636434f42ac4c3df47e8bac43     0     0.0   \n",
       "2  e2127556f4f64592b11af22de27a7932     0     0.0   \n",
       "3  8ec6ce2a7e7949b1bf142def7d0e0586     0     0.0   \n",
       "4  68617ca6246f4fbc85e91a2a49552598     0     0.0   \n",
       "\n",
       "                           offer_id  reward  offer completed  offer received  \\\n",
       "0  9b98b8c7a33c4b65b9aebfe6a799e6d9     0.0                0               1   \n",
       "1  0b1e1539f2cc45b7b9fa7c272da2e1d7     0.0                0               1   \n",
       "2  2906b810c7d4411798c6938adc9daaa5     0.0                0               1   \n",
       "3  fafdcd668e3743c1bb461111dcafc2a4     0.0                0               1   \n",
       "4  4d5c57ea9a6940dd891ad53e9dbe8da0     0.0                0               1   \n",
       "\n",
       "   offer viewed  transaction  \n",
       "0             0            0  \n",
       "1             0            0  \n",
       "2             0            0  \n",
       "3             0            0  \n",
       "4             0            0  "
      ]
     },
     "execution_count": 42,
     "metadata": {},
     "output_type": "execute_result"
    }
   ],
   "source": [
    "# Fill 0 in NaN\n",
    "transcript.fillna(0, inplace=True)\n",
    "transcript.head(5)"
   ]
  },
  {
   "cell_type": "markdown",
   "metadata": {},
   "source": [
    "#### Merge 'portfolio' and 'transcript' on offer id and 'profile' on customer id"
   ]
  },
  {
   "cell_type": "code",
   "execution_count": 43,
   "metadata": {},
   "outputs": [],
   "source": [
    "# Merge portfolio and transcript and profile (1)\n",
    "port_trans = pd.merge(portfolio, transcript, on = 'offer_id', how = 'inner')"
   ]
  },
  {
   "cell_type": "code",
   "execution_count": 44,
   "metadata": {},
   "outputs": [],
   "source": [
    "# Merge portfolio and transcript and profile (2)\n",
    "port_trans_prof = pd.merge(port_trans, profile, on = 'customer_id', how = 'inner')"
   ]
  },
  {
   "cell_type": "code",
   "execution_count": 45,
   "metadata": {},
   "outputs": [
    {
     "data": {
      "text/html": [
       "<div>\n",
       "<style scoped>\n",
       "    .dataframe tbody tr th:only-of-type {\n",
       "        vertical-align: middle;\n",
       "    }\n",
       "\n",
       "    .dataframe tbody tr th {\n",
       "        vertical-align: top;\n",
       "    }\n",
       "\n",
       "    .dataframe thead th {\n",
       "        text-align: right;\n",
       "    }\n",
       "</style>\n",
       "<table border=\"1\" class=\"dataframe\">\n",
       "  <thead>\n",
       "    <tr style=\"text-align: right;\">\n",
       "      <th></th>\n",
       "      <th>reward_x</th>\n",
       "      <th>difficulty</th>\n",
       "      <th>duration</th>\n",
       "      <th>offer_id</th>\n",
       "      <th>email</th>\n",
       "      <th>mobile</th>\n",
       "      <th>social</th>\n",
       "      <th>web</th>\n",
       "      <th>bogo</th>\n",
       "      <th>discount</th>\n",
       "      <th>informational</th>\n",
       "      <th>customer_id</th>\n",
       "      <th>time</th>\n",
       "      <th>amount</th>\n",
       "      <th>reward_y</th>\n",
       "      <th>offer completed</th>\n",
       "      <th>offer received</th>\n",
       "      <th>offer viewed</th>\n",
       "      <th>transaction</th>\n",
       "      <th>gender</th>\n",
       "      <th>age</th>\n",
       "      <th>became_member_on</th>\n",
       "      <th>income</th>\n",
       "    </tr>\n",
       "  </thead>\n",
       "  <tbody>\n",
       "    <tr>\n",
       "      <th>0</th>\n",
       "      <td>10</td>\n",
       "      <td>10</td>\n",
       "      <td>7</td>\n",
       "      <td>ae264e3637204a6fb9bb56bc8210ddfd</td>\n",
       "      <td>1</td>\n",
       "      <td>1</td>\n",
       "      <td>1</td>\n",
       "      <td>0</td>\n",
       "      <td>1</td>\n",
       "      <td>0</td>\n",
       "      <td>0</td>\n",
       "      <td>4b0da7e80e5945209a1fdddfe813dbe0</td>\n",
       "      <td>0</td>\n",
       "      <td>0.0</td>\n",
       "      <td>0.0</td>\n",
       "      <td>0</td>\n",
       "      <td>1</td>\n",
       "      <td>0</td>\n",
       "      <td>0</td>\n",
       "      <td>M</td>\n",
       "      <td>64.0</td>\n",
       "      <td>20170909</td>\n",
       "      <td>100000.0</td>\n",
       "    </tr>\n",
       "    <tr>\n",
       "      <th>1</th>\n",
       "      <td>10</td>\n",
       "      <td>10</td>\n",
       "      <td>7</td>\n",
       "      <td>ae264e3637204a6fb9bb56bc8210ddfd</td>\n",
       "      <td>1</td>\n",
       "      <td>1</td>\n",
       "      <td>1</td>\n",
       "      <td>0</td>\n",
       "      <td>1</td>\n",
       "      <td>0</td>\n",
       "      <td>0</td>\n",
       "      <td>4b0da7e80e5945209a1fdddfe813dbe0</td>\n",
       "      <td>102</td>\n",
       "      <td>0.0</td>\n",
       "      <td>0.0</td>\n",
       "      <td>0</td>\n",
       "      <td>0</td>\n",
       "      <td>1</td>\n",
       "      <td>0</td>\n",
       "      <td>M</td>\n",
       "      <td>64.0</td>\n",
       "      <td>20170909</td>\n",
       "      <td>100000.0</td>\n",
       "    </tr>\n",
       "    <tr>\n",
       "      <th>2</th>\n",
       "      <td>10</td>\n",
       "      <td>10</td>\n",
       "      <td>7</td>\n",
       "      <td>ae264e3637204a6fb9bb56bc8210ddfd</td>\n",
       "      <td>1</td>\n",
       "      <td>1</td>\n",
       "      <td>1</td>\n",
       "      <td>0</td>\n",
       "      <td>1</td>\n",
       "      <td>0</td>\n",
       "      <td>0</td>\n",
       "      <td>4b0da7e80e5945209a1fdddfe813dbe0</td>\n",
       "      <td>504</td>\n",
       "      <td>0.0</td>\n",
       "      <td>0.0</td>\n",
       "      <td>0</td>\n",
       "      <td>1</td>\n",
       "      <td>0</td>\n",
       "      <td>0</td>\n",
       "      <td>M</td>\n",
       "      <td>64.0</td>\n",
       "      <td>20170909</td>\n",
       "      <td>100000.0</td>\n",
       "    </tr>\n",
       "    <tr>\n",
       "      <th>3</th>\n",
       "      <td>10</td>\n",
       "      <td>10</td>\n",
       "      <td>7</td>\n",
       "      <td>ae264e3637204a6fb9bb56bc8210ddfd</td>\n",
       "      <td>1</td>\n",
       "      <td>1</td>\n",
       "      <td>1</td>\n",
       "      <td>0</td>\n",
       "      <td>1</td>\n",
       "      <td>0</td>\n",
       "      <td>0</td>\n",
       "      <td>4b0da7e80e5945209a1fdddfe813dbe0</td>\n",
       "      <td>510</td>\n",
       "      <td>0.0</td>\n",
       "      <td>0.0</td>\n",
       "      <td>0</td>\n",
       "      <td>0</td>\n",
       "      <td>1</td>\n",
       "      <td>0</td>\n",
       "      <td>M</td>\n",
       "      <td>64.0</td>\n",
       "      <td>20170909</td>\n",
       "      <td>100000.0</td>\n",
       "    </tr>\n",
       "    <tr>\n",
       "      <th>4</th>\n",
       "      <td>10</td>\n",
       "      <td>10</td>\n",
       "      <td>7</td>\n",
       "      <td>ae264e3637204a6fb9bb56bc8210ddfd</td>\n",
       "      <td>1</td>\n",
       "      <td>1</td>\n",
       "      <td>1</td>\n",
       "      <td>0</td>\n",
       "      <td>1</td>\n",
       "      <td>0</td>\n",
       "      <td>0</td>\n",
       "      <td>4b0da7e80e5945209a1fdddfe813dbe0</td>\n",
       "      <td>510</td>\n",
       "      <td>0.0</td>\n",
       "      <td>10.0</td>\n",
       "      <td>1</td>\n",
       "      <td>0</td>\n",
       "      <td>0</td>\n",
       "      <td>0</td>\n",
       "      <td>M</td>\n",
       "      <td>64.0</td>\n",
       "      <td>20170909</td>\n",
       "      <td>100000.0</td>\n",
       "    </tr>\n",
       "  </tbody>\n",
       "</table>\n",
       "</div>"
      ],
      "text/plain": [
       "   reward_x  difficulty  duration                          offer_id  email  \\\n",
       "0        10          10         7  ae264e3637204a6fb9bb56bc8210ddfd      1   \n",
       "1        10          10         7  ae264e3637204a6fb9bb56bc8210ddfd      1   \n",
       "2        10          10         7  ae264e3637204a6fb9bb56bc8210ddfd      1   \n",
       "3        10          10         7  ae264e3637204a6fb9bb56bc8210ddfd      1   \n",
       "4        10          10         7  ae264e3637204a6fb9bb56bc8210ddfd      1   \n",
       "\n",
       "   mobile  social  web  bogo  discount  informational  \\\n",
       "0       1       1    0     1         0              0   \n",
       "1       1       1    0     1         0              0   \n",
       "2       1       1    0     1         0              0   \n",
       "3       1       1    0     1         0              0   \n",
       "4       1       1    0     1         0              0   \n",
       "\n",
       "                        customer_id  time  amount  reward_y  offer completed  \\\n",
       "0  4b0da7e80e5945209a1fdddfe813dbe0     0     0.0       0.0                0   \n",
       "1  4b0da7e80e5945209a1fdddfe813dbe0   102     0.0       0.0                0   \n",
       "2  4b0da7e80e5945209a1fdddfe813dbe0   504     0.0       0.0                0   \n",
       "3  4b0da7e80e5945209a1fdddfe813dbe0   510     0.0       0.0                0   \n",
       "4  4b0da7e80e5945209a1fdddfe813dbe0   510     0.0      10.0                1   \n",
       "\n",
       "   offer received  offer viewed  transaction gender   age  became_member_on  \\\n",
       "0               1             0            0      M  64.0          20170909   \n",
       "1               0             1            0      M  64.0          20170909   \n",
       "2               1             0            0      M  64.0          20170909   \n",
       "3               0             1            0      M  64.0          20170909   \n",
       "4               0             0            0      M  64.0          20170909   \n",
       "\n",
       "     income  \n",
       "0  100000.0  \n",
       "1  100000.0  \n",
       "2  100000.0  \n",
       "3  100000.0  \n",
       "4  100000.0  "
      ]
     },
     "execution_count": 45,
     "metadata": {},
     "output_type": "execute_result"
    }
   ],
   "source": [
    "# Take a look on port_trans_prof\n",
    "pd.set_option('display.max_columns', 30)\n",
    "port_trans_prof.head()"
   ]
  },
  {
   "cell_type": "markdown",
   "metadata": {},
   "source": [
    "### Investigation of the portfolio types 'BOGO', 'discount' and  'informational'\n",
    "For the portfolio types 'BOGO' and 'discount', the following steps must be followed so that the transaction can be completed successfully:\n",
    "\n",
    " - offered viewed --> offer received --> offer completed\n",
    "\n",
    "Any deviation from this will result in an incomplete transaction.\n",
    "\n",
    "For portfolio type 'informational', the steps\n",
    "\n",
    " - offer received --> offer completed \n",
    "\n",
    "must be followed so that the transaction can be completed successfully. Again, any deviation from the required steps will result in an incomplete transaction.\n",
    "\n"
   ]
  },
  {
   "cell_type": "markdown",
   "metadata": {},
   "source": [
    "#### Compute 'BOGO' transaction status"
   ]
  },
  {
   "cell_type": "code",
   "execution_count": 46,
   "metadata": {},
   "outputs": [],
   "source": [
    "# Compute the status of the transaction for bogo for the customers\n",
    "\n",
    "# Only bogo transactions\n",
    "bogo_port_trans_prof = port_trans_prof[port_trans_prof['bogo'] == 1]\n",
    "\n",
    "# Select customer with informational portfolie types\n",
    "custom_id_b = bogo_port_trans_prof['customer_id'].unique()\n",
    "\n",
    "bogo_transaction_status = []\n",
    "\n",
    "# Loop over all customers \n",
    "for cust in custom_id_b:\n",
    "    bogo_cust = bogo_port_trans_prof[bogo_port_trans_prof['customer_id'] == str(cust)]\n",
    "\n",
    "    # Select offers, only offers for the selected customer     \n",
    "    offer_id_b = bogo_cust['offer_id'].unique()\n",
    "         \n",
    "    # Loop over all offers of selected customer\n",
    "    for of in offer_id_b:\n",
    "        offer_viewed = np.array(bogo_cust['offer viewed'][bogo_cust['customer_id'] == str(cust)][bogo_cust['offer_id'] == str(of)])\n",
    "        offer_received = np.array(bogo_cust['offer received'][bogo_cust['customer_id'] == str(cust)][bogo_cust['offer_id'] == str(of)])\n",
    "        offer_completed = np.array(bogo_cust['offer completed'][bogo_cust['customer_id'] == str(cust)][bogo_cust['offer_id'] == str(of)])\n",
    "\n",
    "        if np.any(offer_viewed) and np.any(offer_received) and np.any(offer_completed):\n",
    "            bogo_transaction_status.append('Completed')\n",
    "        else: \n",
    "            bogo_transaction_status.append('Not Completed')\n",
    "\n"
   ]
  },
  {
   "cell_type": "code",
   "execution_count": 47,
   "metadata": {},
   "outputs": [
    {
     "name": "stdout",
     "output_type": "stream",
     "text": [
      "BOGO transactions all: 22062\n",
      "BOGO transactions Completed: 11496\n",
      "BOGO transactions Not Completed: 10566\n"
     ]
    }
   ],
   "source": [
    "# Number of all and completed/not completed BOGO transactions\n",
    "bogo = bogo_port_trans_prof[bogo_port_trans_prof['bogo'] == 1]\n",
    "bogo = bogo.drop_duplicates(subset = ['customer_id','offer_id'])\n",
    "\n",
    "bogo['transaction'] = bogo_transaction_status\n",
    "\n",
    "bogo_t_s_total = len(bogo_transaction_status)\n",
    "bogo_t_s_completed_c = bogo_transaction_status.count('Completed')\n",
    "bogo_t_s_notcompleted_c = bogo_transaction_status.count('Not Completed')\n",
    "\n",
    "print(\"BOGO transactions all: {}\".format(bogo_t_s_total))\n",
    "print(\"BOGO transactions Completed: {}\".format(bogo_t_s_completed_c))\n",
    "print(\"BOGO transactions Not Completed: {}\".format(bogo_t_s_notcompleted_c))"
   ]
  },
  {
   "cell_type": "markdown",
   "metadata": {},
   "source": [
    "#### Conclusion for portfolio type 'BOGO'\n",
    "In the case of the 'BOGO' portfolio type, the transaction statuses 'Completed' and 'Not Completed' are roughly evenly distributed. This distribution is very helpful and also necessary, since the data sets are split according to 'gender', 'age' and 'income' in the further course of the investigation."
   ]
  },
  {
   "cell_type": "markdown",
   "metadata": {},
   "source": [
    "#### Compute 'discount' transaction status"
   ]
  },
  {
   "cell_type": "code",
   "execution_count": 48,
   "metadata": {},
   "outputs": [],
   "source": [
    "# Compute the status of the transaction for discount for the customers\n",
    "\n",
    "# Only discount transactions\n",
    "discount_port_trans_prof = port_trans_prof[port_trans_prof['discount'] == 1]\n",
    "\n",
    "# Select customer with informational portfolie types\n",
    "custom_id_d = discount_port_trans_prof['customer_id'].unique()\n",
    "\n",
    "discount_transaction_status = []\n",
    "\n",
    "# Loop over all customers \n",
    "for cust in custom_id_d:\n",
    "    discount_cust = discount_port_trans_prof[discount_port_trans_prof['customer_id'] == str(cust)]\n",
    "\n",
    "    # Select offers, only offers for the selected customer       \n",
    "    offer_id_d = discount_cust['offer_id'].unique()\n",
    "         \n",
    "    # Loop over all offers of selected customer\n",
    "    for of in offer_id_d:\n",
    "        offer_viewed = np.array(discount_cust['offer viewed'][discount_cust['customer_id'] == str(cust)][discount_cust['offer_id'] == str(of)])\n",
    "        offer_received = np.array(discount_cust['offer received'][discount_cust['customer_id'] == str(cust)][discount_cust['offer_id'] == str(of)])\n",
    "        offer_completed = np.array(discount_cust['offer completed'][discount_cust['customer_id'] == str(cust)][discount_cust['offer_id'] == str(of)])\n",
    "\n",
    "        if np.any(offer_viewed) and np.any(offer_received) and np.any(offer_completed):\n",
    "            discount_transaction_status.append('Completed')\n",
    "        else: \n",
    "            discount_transaction_status.append('Not Completed')\n",
    "\n"
   ]
  },
  {
   "cell_type": "code",
   "execution_count": 49,
   "metadata": {},
   "outputs": [
    {
     "name": "stdout",
     "output_type": "stream",
     "text": [
      "discount transactions all: 22119\n",
      "discount transactions Completed: 12003\n",
      "discount transactions Not Completed: 10116\n"
     ]
    }
   ],
   "source": [
    "# Number of completed/not completed discount transactions\n",
    "discount = discount_port_trans_prof[discount_port_trans_prof['discount'] == 1]\n",
    "discount = discount.drop_duplicates(subset = ['customer_id','offer_id'])\n",
    "\n",
    "discount['transaction'] = discount_transaction_status\n",
    "\n",
    "discount_t_s_total = len(discount_transaction_status)\n",
    "discount_t_s_completed_c = discount_transaction_status.count('Completed')\n",
    "discount_t_s_notcompleted_c = discount_transaction_status.count('Not Completed')\n",
    "\n",
    "print(\"discount transactions all: {}\".format(discount_t_s_total))\n",
    "print(\"discount transactions Completed: {}\".format(discount_t_s_completed_c))\n",
    "print(\"discount transactions Not Completed: {}\".format(discount_t_s_notcompleted_c))"
   ]
  },
  {
   "cell_type": "markdown",
   "metadata": {},
   "source": [
    "#### Conclusion for portfolio type 'discount'\n",
    "In the case of the 'discount' portfolio type, the transaction statuses 'Completed' and 'Not Completed' are roughly evenly distributed like in the 'BOGO' portfolio type. This distribution is very helpful and also necessary, since the data sets are split according to 'gender', 'age' and 'income' in the further course of the investigation."
   ]
  },
  {
   "cell_type": "markdown",
   "metadata": {},
   "source": [
    "#### Compute 'informational' transaction status"
   ]
  },
  {
   "cell_type": "code",
   "execution_count": 50,
   "metadata": {},
   "outputs": [],
   "source": [
    "# Compute the status of the transaction for informational for the customers\n",
    "\n",
    "# Only informational transactions\n",
    "informational_port_trans_prof = port_trans_prof[port_trans_prof['informational'] == 1]\n",
    "\n",
    "# Select customer with informational portfolie types\n",
    "custom_id_i = informational_port_trans_prof['customer_id'].unique()\n",
    "\n",
    "informational_transaction_status = []\n",
    "\n",
    "# Loop over all customers \n",
    "for cust in custom_id_i:\n",
    "    informational_cust = informational_port_trans_prof[informational_port_trans_prof['customer_id'] == str(cust)]\n",
    "\n",
    "    # Select offers, only offers for the selected customer    \n",
    "    offer_id_i = informational_cust['offer_id'].unique()\n",
    "         \n",
    "    # Loop over all offers of selected customer\n",
    "    for of in offer_id_i:\n",
    "        offer_received = np.array(informational_cust['offer received'][informational_cust['customer_id'] == str(cust)][informational_cust['offer_id'] == str(of)])\n",
    "        offer_completed = np.array(informational_cust['offer completed'][informational_cust['customer_id'] == str(cust)][informational_cust['offer_id'] == str(of)])\n",
    "\n",
    "        if np.any(offer_received) and np.any(offer_completed):\n",
    "            informational_transaction_status.append('Completed')\n",
    "        else: \n",
    "            informational_transaction_status.append('Not Completed')"
   ]
  },
  {
   "cell_type": "code",
   "execution_count": 51,
   "metadata": {},
   "outputs": [
    {
     "name": "stdout",
     "output_type": "stream",
     "text": [
      "informational transactions all: 11041\n",
      "informational transactions Completed: 0\n",
      "informational transactions Not Completed: 11041\n"
     ]
    }
   ],
   "source": [
    "# Number of completed/not completed informational transactions\n",
    "informational = informational_port_trans_prof[informational_port_trans_prof['informational'] == 1]\n",
    "informational = informational.drop_duplicates(subset = ['customer_id','offer_id'])\n",
    "\n",
    "informational['transaction'] = informational_transaction_status\n",
    "\n",
    "informational_t_s_total = len(informational_transaction_status)\n",
    "informational_t_s_completed_c = informational_transaction_status.count('Completed')\n",
    "informational_t_s_notcompleted_c = informational_transaction_status.count('Not Completed')\n",
    "\n",
    "print(\"informational transactions all: {}\".format(informational_t_s_total))\n",
    "print(\"informational transactions Completed: {}\".format(informational_t_s_completed_c))\n",
    "print(\"informational transactions Not Completed: {}\".format(informational_t_s_notcompleted_c))"
   ]
  },
  {
   "cell_type": "markdown",
   "metadata": {},
   "source": [
    "#### Conclusion for portfolio type 'informational'\n",
    "With the portfolio type 'Informational', the transaction status is 'Not Completed' across all consumers. Apparently no transaction was carried out for this portfolio in the required manner. Although only Not Completed transactions are available, the Informational portfolio type data is used for further investigation.\n",
    "\n",
    "But: The accuracy for the transaction should be calculated in the later train data and in the test data. Due to the situation in the data, it is to be expected that for all 'informational' data will be accuracy = 1. This leads to the realization that with this data a prediction does not bring any knowledge with it. We will see..."
   ]
  },
  {
   "cell_type": "markdown",
   "metadata": {},
   "source": [
    "### Remove columns that are no longer needed in the 'BOGO', 'discount' and 'informational' data\n",
    "#### Replace values in 'gender' and 'transaction'"
   ]
  },
  {
   "cell_type": "code",
   "execution_count": 52,
   "metadata": {},
   "outputs": [],
   "source": [
    "# Replace values in 'gender' and 'transaction'\n",
    "bogo['gender'] = bogo['gender'].replace(['M', 'F', 'O'], [0, 1, 2])\n",
    "discount['gender'] = discount['gender'].replace(['M', 'F', 'O'], [0, 1, 2])\n",
    "informational['gender'] = informational['gender'].replace(['M', 'F', 'O'], [0, 1, 2])\n",
    "\n",
    "bogo['transaction'] = bogo['transaction'].replace(['Not Completed', 'Completed'], [0, 1])\n",
    "discount['transaction'] = discount['transaction'].replace(['Not Completed', 'Completed'], [0, 1])\n",
    "informational['transaction'] = informational['transaction'].replace(['Not Completed', 'Completed'], [0, 1])"
   ]
  },
  {
   "cell_type": "markdown",
   "metadata": {},
   "source": [
    "#### Value checks in 'amout' and 'reward_y'"
   ]
  },
  {
   "cell_type": "code",
   "execution_count": 53,
   "metadata": {},
   "outputs": [
    {
     "name": "stdout",
     "output_type": "stream",
     "text": [
      "sum value of 'amount' in bogo: 0.0\n",
      "sum value of 'reward_y' in bogo: 0.0\n"
     ]
    }
   ],
   "source": [
    "# Check in bogo the values in 'amount' and 'reward_y'\n",
    "print(\"sum value of 'amount' in bogo: {}\".format(bogo['amount'].sum()))\n",
    "print(\"sum value of 'reward_y' in bogo: {}\".format(bogo['reward_y'].sum()))"
   ]
  },
  {
   "cell_type": "code",
   "execution_count": 54,
   "metadata": {},
   "outputs": [
    {
     "name": "stdout",
     "output_type": "stream",
     "text": [
      "sum value of 'amount' in discount: 0.0\n",
      "sum value of 'reward_y' in discount: 0.0\n"
     ]
    }
   ],
   "source": [
    "# Check values in discount the in 'amount' and 'reward_y'\n",
    "print(\"sum value of 'amount' in discount: {}\".format(discount['amount'].sum()))\n",
    "print(\"sum value of 'reward_y' in discount: {}\".format(discount['reward_y'].sum()))"
   ]
  },
  {
   "cell_type": "code",
   "execution_count": 55,
   "metadata": {},
   "outputs": [
    {
     "name": "stdout",
     "output_type": "stream",
     "text": [
      "sum value of 'amount' in informational: 0.0\n",
      "sum value of 'reward_y' in informational: 0.0\n"
     ]
    }
   ],
   "source": [
    "# Check values in informational the in 'amount' and 'reward_y'\n",
    "print(\"sum value of 'amount' in informational: {}\".format(informational['amount'].sum()))\n",
    "print(\"sum value of 'reward_y' in informational: {}\".format(informational['reward_y'].sum()))"
   ]
  },
  {
   "cell_type": "markdown",
   "metadata": {},
   "source": [
    "#### Conclusion for value check\n",
    "In 'BOGO', 'discount' and 'informational' all values in 'amount' and 'reward_y' are 0. This provides no distinguishing feature for the data sets. This '0' information is therefore not required to use the prediction model and can be removed."
   ]
  },
  {
   "cell_type": "markdown",
   "metadata": {},
   "source": [
    "#### Remome columns"
   ]
  },
  {
   "cell_type": "code",
   "execution_count": 56,
   "metadata": {},
   "outputs": [],
   "source": [
    "# Remove columns 'BOGO' data\n",
    "bogo = bogo.drop(columns=['offer_id',\n",
    "                          'customer_id',\n",
    "                          'bogo',\n",
    "                          'discount',\n",
    "                          'informational',\n",
    "                          'offer completed',\n",
    "                          'offer viewed',\n",
    "                          'offer received',\n",
    "                          'amount',\n",
    "                          'reward_y'])"
   ]
  },
  {
   "cell_type": "code",
   "execution_count": 57,
   "metadata": {},
   "outputs": [],
   "source": [
    "# Remove columns 'discount' data\n",
    "discount = discount.drop(columns=['offer_id',\n",
    "                          'customer_id',\n",
    "                          'bogo',\n",
    "                          'discount',\n",
    "                          'informational',\n",
    "                          'offer completed',\n",
    "                          'offer viewed',\n",
    "                          'offer received',\n",
    "                          'amount',\n",
    "                          'reward_y'])"
   ]
  },
  {
   "cell_type": "code",
   "execution_count": 58,
   "metadata": {},
   "outputs": [],
   "source": [
    "# Remove columns 'informational' data\n",
    "informational = informational.drop(columns=['offer_id',\n",
    "                          'customer_id',\n",
    "                          'bogo',\n",
    "                          'discount',\n",
    "                          'informational',\n",
    "                          'offer completed',\n",
    "                          'offer viewed',\n",
    "                          'offer received',\n",
    "                          'amount',\n",
    "                          'reward_y'])"
   ]
  },
  {
   "cell_type": "markdown",
   "metadata": {},
   "source": [
    "### Splitting the data of 'BOGO', 'discount' and 'informational' by: 1. gender, 2. age, 3. income\n",
    "\n",
    "#### Splitting 'BOGO' data by gender"
   ]
  },
  {
   "cell_type": "code",
   "execution_count": 59,
   "metadata": {},
   "outputs": [],
   "source": [
    "# Splitting bogo data by gender into a 'male', a 'female' and 'another' part\n",
    "bogo_male = bogo[bogo['gender'] == 0]\n",
    "bogo_female = bogo[bogo['gender'] == 1]\n",
    "bogo_other = bogo[bogo['gender'] == 2]"
   ]
  },
  {
   "cell_type": "code",
   "execution_count": 60,
   "metadata": {},
   "outputs": [
    {
     "name": "stdout",
     "output_type": "stream",
     "text": [
      "Datasets in bogo_male: 12662\n",
      "Datasets in bogo_female: 9097\n",
      "Datasets in bogo_other: 303\n"
     ]
    }
   ],
   "source": [
    "print(\"Datasets in bogo_male: {}\".format(len(bogo_male)))\n",
    "print(\"Datasets in bogo_female: {}\".format(len(bogo_female)))\n",
    "print(\"Datasets in bogo_other: {}\".format(len(bogo_other)))"
   ]
  },
  {
   "cell_type": "markdown",
   "metadata": {},
   "source": [
    "#### Conclusion for splitting 'BOGO' data by gender\n",
    "A breakdown of the 'BOGO' data by gender shows that there are around 12k and 9k data sets for 'male' and 'female', respectively. These can be broken down into age and income for further analysis.\n",
    "\n",
    "For gender 'other' there are only about 300 data records. A further breakdown by age and income is not considered sensible here. A further division results in an even smaller number of data sets, which are unsuitable for prediction models with statistical methods."
   ]
  },
  {
   "cell_type": "markdown",
   "metadata": {},
   "source": [
    "#### Splitting 'discount' data by gender"
   ]
  },
  {
   "cell_type": "code",
   "execution_count": 61,
   "metadata": {},
   "outputs": [],
   "source": [
    "# Splitting discount data py gender into a 'male', a 'female' and 'another' part\n",
    "discount_male = discount[discount['gender'] == 0]\n",
    "discount_female = discount[discount['gender'] == 1]\n",
    "discount_other = discount[discount['gender'] == 2]"
   ]
  },
  {
   "cell_type": "code",
   "execution_count": 62,
   "metadata": {},
   "outputs": [
    {
     "name": "stdout",
     "output_type": "stream",
     "text": [
      "Datasets in discount_male: 12706\n",
      "Datasets in discount_female: 9110\n",
      "Datasets in discount_other: 303\n"
     ]
    }
   ],
   "source": [
    "print(\"Datasets in discount_male: {}\".format(len(discount_male)))\n",
    "print(\"Datasets in discount_female: {}\".format(len(discount_female)))\n",
    "print(\"Datasets in discount_other: {}\".format(len(discount_other)))"
   ]
  },
  {
   "cell_type": "markdown",
   "metadata": {},
   "source": [
    "#### Conclusion for splitting 'discount' data by gender\n",
    "After dividing the 'discount' data by gender, the 'discount' datasets behave similarly to the 'BOGO' datasets.\n",
    "\n",
    "A breakdown of the 'discount' data by gender shows that there are around 12k and 9k data sets for 'male' and 'female', respectively. These can be broken down into age and income for further analysis.\n",
    "\n",
    "For gender 'other' there are only about 300 data records. A further breakdown by age and income is not considered sensible here. A further division results in an even smaller number of data sets, which are unsuitable for prediction models with statistical methods."
   ]
  },
  {
   "cell_type": "markdown",
   "metadata": {},
   "source": [
    "#### Splitting 'informational' data by gender"
   ]
  },
  {
   "cell_type": "code",
   "execution_count": 63,
   "metadata": {},
   "outputs": [],
   "source": [
    "# Splitting discount data py gender into a 'male', a 'female' and 'another' part\n",
    "informational_male = informational[informational['gender'] == 0]\n",
    "informational_female = informational[informational['gender'] == 1]\n",
    "informational_other = informational[informational['gender'] == 2]"
   ]
  },
  {
   "cell_type": "code",
   "execution_count": 64,
   "metadata": {},
   "outputs": [
    {
     "name": "stdout",
     "output_type": "stream",
     "text": [
      "Datasets in informational_male: 6277\n",
      "Datasets in informational_female: 4601\n",
      "Datasets in informational_other: 163\n"
     ]
    }
   ],
   "source": [
    "print(\"Datasets in informational_male: {}\".format(len(informational_male)))\n",
    "print(\"Datasets in informational_female: {}\".format(len(informational_female)))\n",
    "print(\"Datasets in informational_other: {}\".format(len(informational_other)))"
   ]
  },
  {
   "cell_type": "markdown",
   "metadata": {},
   "source": [
    "#### Conclusion for splitting 'informational' data by gender\n",
    "After subdividing the \"Information\" data by gender, the \"Information\" records behave proportionally similar to the \"BOGO\" and \"Discount\" records, but with half the number of records.\n",
    "\n",
    "A breakdown of the 'discount' data by gender shows that there are around 6k and 4k data sets for 'male' and 'female', respectively. These can be broken down into age and income for further analysis.\n",
    "\n",
    "For gender 'other' there are only about 160 data records. A further breakdown by age and income is not considered sensible here. A further division results in an even smaller number of data sets, which are unsuitable for prediction models with statistical methods."
   ]
  },
  {
   "cell_type": "markdown",
   "metadata": {},
   "source": [
    "#### Splitting 'BOGO' gender specific data by age"
   ]
  },
  {
   "cell_type": "code",
   "execution_count": 65,
   "metadata": {},
   "outputs": [
    {
     "name": "stdout",
     "output_type": "stream",
     "text": [
      "Datasets in bogo_male_old: 7590\n",
      "Datasets in bogo_male_young: 5072\n",
      "\n",
      "Datasets in bogo_female_old: 5341\n",
      "Datasets in bogo_female_young: 3756\n"
     ]
    }
   ],
   "source": [
    "# Splitting bogo gender specific data into an 'old' an a 'young' part, cut is mean_age_male\n",
    "\n",
    "# Dividing male data\n",
    "bogo_male_old = bogo_male[bogo_male['age'] >= mean_age_male]\n",
    "bogo_male_young = bogo_male[bogo_male['age'] < mean_age_male]\n",
    "\n",
    "print(\"Datasets in bogo_male_old: {}\".format(len(bogo_male_old)))\n",
    "print(\"Datasets in bogo_male_young: {}\".format(len(bogo_male_young)))\n",
    "print()\n",
    "\n",
    "# Dividing female data\n",
    "bogo_female_old = bogo_female[bogo_female['age'] >= mean_age_female]\n",
    "bogo_female_young = bogo_female[bogo_female['age']< mean_age_female]\n",
    "\n",
    "print(\"Datasets in bogo_female_old: {}\".format(len(bogo_female_old)))\n",
    "print(\"Datasets in bogo_female_young: {}\".format(len(bogo_female_young)))"
   ]
  },
  {
   "cell_type": "markdown",
   "metadata": {},
   "source": [
    "##### Conclusion for splitting 'BOGO' gender specific data by age\n",
    "\n",
    "A breakdown of the 'BOGO' gender specific data by age shows that there are around 7k and 5k data sets for 'male_old' and 'male_young', respectively. These can be broken down income for further analysis.\n",
    "\n",
    "With around 5k and 4k records for 'female_old' and 'female_young', respectively, there are also enough records to segment them by income for further analysis."
   ]
  },
  {
   "cell_type": "markdown",
   "metadata": {},
   "source": [
    "#### Splitting 'discount' gender specific data by age"
   ]
  },
  {
   "cell_type": "code",
   "execution_count": 66,
   "metadata": {},
   "outputs": [
    {
     "name": "stdout",
     "output_type": "stream",
     "text": [
      "Datasets in discount_male_old: 7613\n",
      "Datasets in discount_male_young: 5093\n",
      "\n",
      "Datasets in discount_female_old: 5377\n",
      "Datasets in discount_female_young: 3733\n"
     ]
    }
   ],
   "source": [
    "# Splitting discount gender specific data into an 'old' an a 'young' part, cut is mean_age_male\n",
    "\n",
    "# Dividing male data\n",
    "discount_male_old = discount_male[discount_male['age'] >= mean_age_male]\n",
    "discount_male_young = discount_male[discount_male['age']< mean_age_male]\n",
    "\n",
    "print(\"Datasets in discount_male_old: {}\".format(len(discount_male_old)))\n",
    "print(\"Datasets in discount_male_young: {}\".format(len(discount_male_young)))\n",
    "print()\n",
    "\n",
    "# Dividing female data\n",
    "discount_female_old = discount_female[discount_female['age'] >= mean_age_female]\n",
    "discount_female_young = discount_female[discount_female['age']< mean_age_female]\n",
    "\n",
    "print(\"Datasets in discount_female_old: {}\".format(len(discount_female_old)))\n",
    "print(\"Datasets in discount_female_young: {}\".format(len(discount_female_young)))"
   ]
  },
  {
   "cell_type": "markdown",
   "metadata": {},
   "source": [
    "#### Conclusion for splitting 'discount' gender specific data by age \n",
    "\n",
    "A breakdown of the 'discount' gender specific data by age shows that there are around 7k and 5k data sets for 'male_old' and 'male_young', respectively. These can be broken down income for further analysis.\n",
    "\n",
    "With around 5k and 4k records for 'female_old' and 'female_young', respectively, there are also enough records to segment them by income for further analysis."
   ]
  },
  {
   "cell_type": "markdown",
   "metadata": {},
   "source": [
    "#### Splitting 'informational' gender specific data by age"
   ]
  },
  {
   "cell_type": "code",
   "execution_count": 67,
   "metadata": {},
   "outputs": [
    {
     "name": "stdout",
     "output_type": "stream",
     "text": [
      "Datasets in informational_male_old: 3821\n",
      "Datasets in informational_male_young: 2456\n",
      "\n",
      "Datasets in informational_female_old: 2682\n",
      "Datasets in informational_female_young: 1919\n"
     ]
    }
   ],
   "source": [
    "# Splitting informational gender specific data into an 'old' an a 'young' part, cut is mean_age_male\n",
    "\n",
    "# Dividing male data\n",
    "informational_male_old = informational_male[informational_male['age'] >= mean_age_male]\n",
    "informational_male_young = informational_male[informational_male['age']< mean_age_male]\n",
    "\n",
    "print(\"Datasets in informational_male_old: {}\".format(len(informational_male_old)))\n",
    "print(\"Datasets in informational_male_young: {}\".format(len(informational_male_young)))\n",
    "print()\n",
    "\n",
    "# Dividing female data\n",
    "informational_female_old = informational_female[informational_female['age'] >= mean_age_female]\n",
    "informational_female_young = informational_female[informational_female['age']< mean_age_female]\n",
    "\n",
    "print(\"Datasets in informational_female_old: {}\".format(len(informational_female_old)))\n",
    "print(\"Datasets in informational_female_young: {}\".format(len(informational_female_young)))"
   ]
  },
  {
   "cell_type": "markdown",
   "metadata": {},
   "source": [
    "#### Conclusion for splitting 'informational' gender specific data by age \n",
    "\n",
    "A breakdown of the 'informational' gender specific data by age shows that there are around 4k and 2k data sets for 'male_old' and 'male_young', respectively. These can be broken down income for further analysis.\n",
    "\n",
    "With around 3k and 2k records for 'female_old' and 'female_young', respectively, there are also enough records to segment them by income for further analysis."
   ]
  },
  {
   "cell_type": "markdown",
   "metadata": {},
   "source": [
    "#### Splitting 'BOGO' gender and age specific data by income"
   ]
  },
  {
   "cell_type": "code",
   "execution_count": 68,
   "metadata": {},
   "outputs": [
    {
     "name": "stdout",
     "output_type": "stream",
     "text": [
      "Datasets in bogo_male_old_rich: 4564\n",
      "Datasets in bogo_male_old_poor: 3026\n",
      "\n",
      "Datasets in bogo_male_young_rich: 2072\n",
      "Datasets in bogo_male_young_poor: 3000\n",
      "\n",
      "Datasets in bogo_female_old_rich: 4115\n",
      "Datasets in bogo_female_old_poor: 1226\n",
      "\n",
      "Datasets in bogo_female_young_rich: 2215\n",
      "Datasets in bogo_female_young_poor: 1541\n"
     ]
    }
   ],
   "source": [
    "# Dividing bogo_male_old into an 'rich' an a 'poor' part, cut is mean_income_male\n",
    "bogo_male_old_rich_pd = bogo_male_old[bogo_male_old['income'] > mean_income_male]\n",
    "bogo_male_old_poor_pd = bogo_male_old[bogo_male_old['income'] <= mean_income_male]\n",
    "\n",
    "print(\"Datasets in bogo_male_old_rich: {}\".format(len(bogo_male_old_rich_pd)))\n",
    "print(\"Datasets in bogo_male_old_poor: {}\".format(len(bogo_male_old_poor_pd)))\n",
    "print()\n",
    "\n",
    "# Dividing bogo_male_young into an rich an a 'poor' part, cut is mean_income_male\n",
    "bogo_male_young_rich_pd = bogo_male_young[bogo_male_young['income'] > mean_income_male]\n",
    "bogo_male_young_poor_pd = bogo_male_young[bogo_male_young['income'] <= mean_income_male]\n",
    "\n",
    "print(\"Datasets in bogo_male_young_rich: {}\".format(len(bogo_male_young_rich_pd)))\n",
    "print(\"Datasets in bogo_male_young_poor: {}\".format(len(bogo_male_young_poor_pd)))\n",
    "print()\n",
    "\n",
    "# Dividing bogo_female_old into an 'rich' an a 'poor' part, cut is mean_income_male\n",
    "bogo_female_old_rich_pd = bogo_female_old[bogo_female_old['income'] > mean_income_male]\n",
    "bogo_female_old_poor_pd = bogo_female_old[bogo_female_old['income'] <= mean_income_male]\n",
    "\n",
    "print(\"Datasets in bogo_female_old_rich: {}\".format(len(bogo_female_old_rich_pd)))\n",
    "print(\"Datasets in bogo_female_old_poor: {}\".format(len(bogo_female_old_poor_pd)))\n",
    "print()\n",
    "\n",
    "# Dividing bogo_female_young into an rich an a 'poor' part, cut is mean_income_male\n",
    "bogo_female_young_rich_pd = bogo_female_young[bogo_female_young['income'] > mean_income_male]\n",
    "bogo_female_young_poor_pd = bogo_female_young[bogo_female_young['income'] <= mean_income_male]\n",
    "\n",
    "print(\"Datasets in bogo_female_young_rich: {}\".format(len(bogo_female_young_rich_pd)))\n",
    "print(\"Datasets in bogo_female_young_poor: {}\".format(len(bogo_female_young_poor_pd)))"
   ]
  },
  {
   "cell_type": "markdown",
   "metadata": {},
   "source": [
    "#### Conclusion for splitting 'BOGO' gender and age specific data by income \n",
    "\n",
    "A breakdown of the 'BOGO' gender and age specific data by income shows that there are around 4k, 3k, 2k an 3k data sets for 'male_old_rich', 'male_old_poor', 'male_young_rich' and 'male_young_poor', respectively and around 4k, 1k, 2k and 1k data sets for 'female_old_rich', 'female_old_poor', 'female_young_rich' and 'female_young_poor', respectively. \n",
    "\n",
    "These data sets can be used in further predictive models."
   ]
  },
  {
   "cell_type": "markdown",
   "metadata": {},
   "source": [
    "#### Splitting 'discount' gender and age specific data by income"
   ]
  },
  {
   "cell_type": "code",
   "execution_count": 69,
   "metadata": {},
   "outputs": [
    {
     "name": "stdout",
     "output_type": "stream",
     "text": [
      "Datasets in discount_male_old_rich: 4618\n",
      "Datasets in discount_male_old_poor: 2995\n",
      "\n",
      "Datasets in discount_male_young_rich: 2102\n",
      "Datasets in discount_male_young_poor: 2991\n",
      "\n",
      "Datasets in discount_female_old_rich: 4172\n",
      "Datasets in discount_female_old_poor: 1205\n",
      "\n",
      "Datasets in discount_female_young_rich: 2179\n",
      "Datasets in discount_female_young_poor: 1554\n"
     ]
    }
   ],
   "source": [
    "# Dividing discount_male_old into an 'rich' an a 'poor' part, cut is mean_income_male\n",
    "discount_male_old_rich_pd = discount_male_old[discount_male_old['income'] > mean_income_male]\n",
    "discount_male_old_poor_pd = discount_male_old[discount_male_old['income'] <= mean_income_male]\n",
    "\n",
    "print(\"Datasets in discount_male_old_rich: {}\".format(len(discount_male_old_rich_pd)))\n",
    "print(\"Datasets in discount_male_old_poor: {}\".format(len(discount_male_old_poor_pd)))\n",
    "print()\n",
    "\n",
    "# Dividing discount_male_young into an rich an a 'poor' part, cut is mean_income_male\n",
    "discount_male_young_rich_pd = discount_male_young[discount_male_young['income'] > mean_income_male]\n",
    "discount_male_young_poor_pd = discount_male_young[discount_male_young['income'] <= mean_income_male]\n",
    "\n",
    "print(\"Datasets in discount_male_young_rich: {}\".format(len(discount_male_young_rich_pd)))\n",
    "print(\"Datasets in discount_male_young_poor: {}\".format(len(discount_male_young_poor_pd)))\n",
    "print()\n",
    "\n",
    "# Dividing discount_female_old into an 'rich' an a 'poor' part, cut is mean_income_male\n",
    "discount_female_old_rich_pd = discount_female_old[discount_female_old['income'] > mean_income_male]\n",
    "discount_female_old_poor_pd = discount_female_old[discount_female_old['income'] <= mean_income_male]\n",
    "\n",
    "print(\"Datasets in discount_female_old_rich: {}\".format(len(discount_female_old_rich_pd)))\n",
    "print(\"Datasets in discount_female_old_poor: {}\".format(len(discount_female_old_poor_pd)))\n",
    "print()\n",
    "\n",
    "# Dividing discount_female_young into an rich an a 'poor' part, cut is mean_income_male\n",
    "discount_female_young_rich_pd = discount_female_young[discount_female_young['income'] > mean_income_male]\n",
    "discount_female_young_poor_pd = discount_female_young[discount_female_young['income'] <= mean_income_male]\n",
    "\n",
    "print(\"Datasets in discount_female_young_rich: {}\".format(len(discount_female_young_rich_pd)))\n",
    "print(\"Datasets in discount_female_young_poor: {}\".format(len(discount_female_young_poor_pd)))"
   ]
  },
  {
   "cell_type": "markdown",
   "metadata": {},
   "source": [
    "#### Conclusion for splitting 'discount' gender and age specific data by income \n",
    "\n",
    "A breakdown of the 'discount' gender and age specific data by income shows that there are around 4k, 3k, 2k an 3k data sets for 'male_old_rich', 'male_old_poor', 'male_young_rich' and 'male_young_poor', respectively and around 4k, 1k, 2k and 1k data sets for 'female_old_rich', 'female_old_poor', 'female_young_rich' and 'female_young_poor', respectively. \n",
    "\n",
    "These data sets can be used in further predictive models."
   ]
  },
  {
   "cell_type": "markdown",
   "metadata": {},
   "source": [
    "#### Splitting 'informatial' gender and age specific data by income"
   ]
  },
  {
   "cell_type": "code",
   "execution_count": 70,
   "metadata": {},
   "outputs": [
    {
     "name": "stdout",
     "output_type": "stream",
     "text": [
      "Datasets in informational_male_old_rich: 2271\n",
      "Datasets in informational_male_old_poor: 1550\n",
      "\n",
      "Datasets in informational_male_young_rich: 1001\n",
      "Datasets in informational_male_young_poor: 1455\n",
      "\n",
      "Datasets in informational_female_old_rich: 2089\n",
      "Datasets in informational_female_old_poor: 593\n",
      "\n",
      "Datasets in informational_female_young_rich: 1138\n",
      "Datasets in informational_female_young_poor: 781\n"
     ]
    }
   ],
   "source": [
    "# Dividing informational_male_old into an 'rich' an a 'poor' part, cut is mean_income_male\n",
    "informational_male_old_rich_pd = informational_male_old[informational_male_old['income'] > mean_income_male]\n",
    "informational_male_old_poor_pd = informational_male_old[informational_male_old['income'] <= mean_income_male]\n",
    "\n",
    "print(\"Datasets in informational_male_old_rich: {}\".format(len(informational_male_old_rich_pd)))\n",
    "print(\"Datasets in informational_male_old_poor: {}\".format(len(informational_male_old_poor_pd)))\n",
    "print()\n",
    "\n",
    "# Dividing informational_male_young into an rich an a 'poor' part, cut is mean_income_male\n",
    "informational_male_young_rich_pd = informational_male_young[informational_male_young['income'] > mean_income_male]\n",
    "informational_male_young_poor_pd = informational_male_young[informational_male_young['income'] <= mean_income_male]\n",
    "\n",
    "print(\"Datasets in informational_male_young_rich: {}\".format(len(informational_male_young_rich_pd)))\n",
    "print(\"Datasets in informational_male_young_poor: {}\".format(len(informational_male_young_poor_pd)))\n",
    "print()\n",
    "\n",
    "# Dividing informational_female_old into an 'rich' an a 'poor' part, cut is mean_income_male\n",
    "informational_female_old_rich_pd = informational_female_old[informational_female_old['income'] > mean_income_male]\n",
    "informational_female_old_poor_pd = informational_female_old[informational_female_old['income'] <= mean_income_male]\n",
    "\n",
    "print(\"Datasets in informational_female_old_rich: {}\".format(len(informational_female_old_rich_pd)))\n",
    "print(\"Datasets in informational_female_old_poor: {}\".format(len(informational_female_old_poor_pd)))\n",
    "print()\n",
    "\n",
    "# Dividing informational_female_young into an rich an a 'poor' part, cut is mean_income_male\n",
    "informational_female_young_rich_pd = informational_female_young[informational_female_young['income'] > mean_income_male]\n",
    "informational_female_young_poor_pd = informational_female_young[informational_female_young['income'] <= mean_income_male]\n",
    "\n",
    "print(\"Datasets in informational_female_young_rich: {}\".format(len(informational_female_young_rich_pd)))\n",
    "print(\"Datasets in informational_female_young_poor: {}\".format(len(informational_female_young_poor_pd)))"
   ]
  },
  {
   "cell_type": "markdown",
   "metadata": {},
   "source": [
    "#### Conclusion for splitting 'informational' gender and age specific data by income\n",
    "A breakdown of the 'informational' gender and age specific data by income shows that there are around 2k, 1k, 1k an 1k data sets for 'male_old_rich', 'male_old_poor', 'male_young_rich' and 'male_young_poor', respectively and around 2k, 1k, 1k and 1k data sets for 'female_old_rich', 'female_old_poor', 'female_young_rich' and 'female_young_poor', respectively.\n",
    "\n",
    "These data sets can only be used with reservations in other forecast models because of the small number in some cases."
   ]
  },
  {
   "cell_type": "markdown",
   "metadata": {},
   "source": [
    "### Prediction model\n",
    "#### AdaBoostClarifier vs RandomForestClassifier\n",
    "In the first step, it is examined whether AdaBoostClarifier or RandomForestClassifier provides the better accuracy for test data. For this purpose, the accuracy is determined for all data sets from 'BOGO', 'discount' and 'informational' together. The winner is then used to calculate the accuracy of test data of the various 'BOGO', 'discount' and 'informational' \"gender-age-income\" specific data."
   ]
  },
  {
   "cell_type": "code",
   "execution_count": 71,
   "metadata": {},
   "outputs": [],
   "source": [
    "# Join bogo, discount and informational\n",
    "bogo_discount = pd.concat([bogo, discount])\n",
    "bogo_discount_informational = pd.concat([bogo_discount, informational])"
   ]
  },
  {
   "cell_type": "code",
   "execution_count": 72,
   "metadata": {},
   "outputs": [],
   "source": [
    "# Train- and test data in bdi\n",
    "X = np.array(bogo_discount_informational.loc[:, bogo_discount_informational.columns != 'transaction'])\n",
    "y = np.array(bogo_discount_informational['transaction'])\n",
    "X_train, X_test, y_train, y_test = train_test_split(X, y, test_size = 0.3, random_state = 666)"
   ]
  },
  {
   "cell_type": "code",
   "execution_count": 73,
   "metadata": {},
   "outputs": [
    {
     "name": "stdout",
     "output_type": "stream",
     "text": [
      "--- This is only for information ---\n",
      "Training accuracy for bogo_discount_informational computed with RandomForestClassifier: 0.9999482602509377\n",
      "Training accuracy for bogo_discount_informational computed with AdaBoostClassifier: 0.7589703789936619\n"
     ]
    }
   ],
   "source": [
    "# Compute accurcy for train data in bogo_discount_informational\n",
    "# This is only for information\n",
    "rfc = RandomForestClassifier(random_state = 666)\n",
    "rfc = rfc.fit(X_train, y_train)\n",
    "\n",
    "abc = AdaBoostClassifier(random_state = 666)\n",
    "abc = abc.fit(X_train, y_train)\n",
    "\n",
    "accuracy_rfc = rfc.score(X_train, y_train)\n",
    "accuracy_abc = abc.score(X_train, y_train)\n",
    "\n",
    "print(\"--- This is only for information ---\")\n",
    "print(\"Training accuracy for bogo_discount_informational computed with RandomForestClassifier: {}\".format(accuracy_rfc))\n",
    "print(\"Training accuracy for bogo_discount_informational computed with AdaBoostClassifier: {}\".format(accuracy_abc))"
   ]
  },
  {
   "cell_type": "code",
   "execution_count": 74,
   "metadata": {},
   "outputs": [
    {
     "name": "stdout",
     "output_type": "stream",
     "text": [
      "Test accuracy for bogo_discount_informational computed with RandomForestClassifier: 0.7478\n",
      "Test accuracy for bogo_discount_informational computed with AdaBoostClassifier: 0.7510\n"
     ]
    }
   ],
   "source": [
    "# Compute the accurcy for test data in bdi\n",
    "rfc = RandomForestClassifier(random_state = 42)\n",
    "rfc = rfc.fit(X_train, y_train)\n",
    "\n",
    "abc = AdaBoostClassifier(random_state = 42)\n",
    "abc = abc.fit(X_train, y_train)\n",
    "\n",
    "accuracy_rfc_test_bdi = rfc.score(X_test, y_test)\n",
    "accuracy_abc_test_bdi = abc.score(X_test, y_test)\n",
    "\n",
    "print(\"Test accuracy for bogo_discount_informational computed with RandomForestClassifier: {:.4f}\".format(accuracy_rfc_test_bdi))\n",
    "print(\"Test accuracy for bogo_discount_informational computed with AdaBoostClassifier: {:.4f}\".format(accuracy_abc_test_bdi))"
   ]
  },
  {
   "cell_type": "markdown",
   "metadata": {},
   "source": [
    "#### Conclusion for computed accuracy for bdi data with AdaBoostClarifier and RandomForestClassifier\n",
    "AdaBoostClarifier with accuracy = 0.7510  provides slightly better than RandomForestClassifier with accuracy = 0.7348 for test data. \n",
    "\n",
    "So the winner is AdaBoostClarifier and it will be used for the further computing of the accuracy in 'BOGO', 'discount' and 'informational' \"gender-age-income\" specific data."
   ]
  },
  {
   "cell_type": "markdown",
   "metadata": {},
   "source": [
    "### Computing of the accuracy for 'BOGO', 'discount' and 'informational' \"gender-age-income-specific\" data\n",
    "#### Dictionary of data to be considered for which accuracy is to be calculated"
   ]
  },
  {
   "cell_type": "code",
   "execution_count": 75,
   "metadata": {},
   "outputs": [],
   "source": [
    "# Dictionary with bogo_discount_informational data, name of dataframe and dataframe\n",
    "my_data_dict = {'bogo_male_old_rich': bogo_male_old_rich_pd,\n",
    "                'bogo_male_old_poor': bogo_male_old_poor_pd,\n",
    "                'bogo_male_young_rich': bogo_male_young_rich_pd,\n",
    "                'bogo_male_young_poor': bogo_male_young_poor_pd,\n",
    "                'bogo_female_old_rich': bogo_female_old_rich_pd,\n",
    "                'bogo_female_old_poor': bogo_female_old_poor_pd,\n",
    "                'bogo_female_young_rich': bogo_female_young_rich_pd,\n",
    "                'bogo_female_young_poor': bogo_female_young_poor_pd,\n",
    "                'discount_male_old_rich': discount_male_old_rich_pd,\n",
    "                'discount_male_old_poor': discount_male_old_poor_pd,\n",
    "                'discount_male_young_rich': discount_male_young_rich_pd,\n",
    "                'discount_male_young_poor': discount_male_young_poor_pd,\n",
    "                'discount_female_old_rich': discount_female_old_rich_pd,\n",
    "                'discount_female_old_poor': discount_female_old_poor_pd,\n",
    "                'discount_female_young_rich': discount_female_young_rich_pd,\n",
    "                'discount_female_young_poor': discount_female_young_poor_pd,\n",
    "                'informational_male_old_rich': informational_male_old_rich_pd,\n",
    "                'informational_male_old_poor': informational_male_old_poor_pd,\n",
    "                'informational_male_young_rich': informational_male_young_rich_pd,\n",
    "                'informational_male_young_poor': informational_male_young_poor_pd,\n",
    "                'informational_female_old_rich': informational_female_old_rich_pd,\n",
    "                'informational_female_old_poor': informational_female_old_poor_pd, \n",
    "                'informational_female_young_rich': informational_female_young_rich_pd,\n",
    "                'informational_female_young_poor': informational_female_young_poor_pd,\n",
    "                'whole_consumers_bogo_discount_informational': bogo_discount_informational \n",
    "               }"
   ]
  },
  {
   "cell_type": "code",
   "execution_count": 76,
   "metadata": {},
   "outputs": [],
   "source": [
    "# Convert keys and values from dictionary into lists\n",
    "my_data_list = my_data_dict.values()\n",
    "my_data_name_list = my_data_dict.keys()"
   ]
  },
  {
   "cell_type": "code",
   "execution_count": 77,
   "metadata": {},
   "outputs": [],
   "source": [
    "# Function for compution accuracy\n",
    "def compute_accuracy(data):\n",
    "    '''\n",
    "    INPUT: DataFrames from (my_data_list, my_data_list_new)\n",
    "    \n",
    "    OUTPUT: accuracy for the input data\n",
    "    '''\n",
    "\n",
    "    # Train- and test data\n",
    "    X = np.array(data.loc[:,data.columns != 'transaction'])\n",
    "    y = np.array(data['transaction'])\n",
    "    X_train, X_test, y_train, y_test = train_test_split(X, y, test_size = 0.3, random_state = 42)\n",
    "        \n",
    "    abc = AdaBoostClassifier(random_state = 99)\n",
    "    abc = abc.fit(X_train, y_train)\n",
    "            \n",
    "    accuracy_abc_test = abc.score(X_test, y_test)\n",
    "        \n",
    "    return accuracy_abc_test"
   ]
  },
  {
   "cell_type": "code",
   "execution_count": 78,
   "metadata": {},
   "outputs": [],
   "source": [
    "# Calculate the accuracy for bogo, discount and informational\n",
    "my_accuracy_list = []\n",
    "\n",
    "for d in my_data_list:\n",
    "    accuracy = compute_accuracy(d)\n",
    "    my_accuracy_list.append(accuracy)"
   ]
  },
  {
   "cell_type": "code",
   "execution_count": 79,
   "metadata": {},
   "outputs": [],
   "source": [
    "# Zip my_accuracy_data_name_list and my_accuracy_data_name_df and convert to df\n",
    "my_accuracy_data_name_list = list(zip(my_data_name_list, my_accuracy_list))\n",
    "my_accuracy_data_name_df = pd.DataFrame(my_accuracy_data_name_list, columns = ['customer_group', 'accuracy'])"
   ]
  },
  {
   "cell_type": "code",
   "execution_count": 80,
   "metadata": {},
   "outputs": [
    {
     "name": "stdout",
     "output_type": "stream",
     "text": [
      "                                 customer_group  accuracy\n",
      "0                            bogo_male_old_rich  0.640146\n",
      "1                            bogo_male_old_poor  0.703744\n",
      "2                          bogo_male_young_rich  0.683280\n",
      "3                          bogo_male_young_poor  0.707778\n",
      "4                          bogo_female_old_rich  0.688259\n",
      "5                          bogo_female_old_poor  0.679348\n",
      "6                        bogo_female_young_rich  0.639098\n",
      "7                        bogo_female_young_poor  0.650108\n",
      "8                        discount_male_old_rich  0.692641\n",
      "9                        discount_male_old_poor  0.734149\n",
      "10                     discount_male_young_rich  0.721078\n",
      "11                     discount_male_young_poor  0.724944\n",
      "12                     discount_female_old_rich  0.715655\n",
      "13                     discount_female_old_poor  0.668508\n",
      "14                   discount_female_young_rich  0.707951\n",
      "15                   discount_female_young_poor  0.734475\n",
      "16                  informational_male_old_rich  1.000000\n",
      "17                  informational_male_old_poor  1.000000\n",
      "18                informational_male_young_rich  1.000000\n",
      "19                informational_male_young_poor  1.000000\n",
      "20                informational_female_old_rich  1.000000\n",
      "21                informational_female_old_poor  1.000000\n",
      "22              informational_female_young_rich  1.000000\n",
      "23              informational_female_young_poor  1.000000\n",
      "24  whole_consumers_bogo_discount_informational  0.756323\n"
     ]
    }
   ],
   "source": [
    "print(my_accuracy_data_name_df)"
   ]
  },
  {
   "cell_type": "code",
   "execution_count": 99,
   "metadata": {},
   "outputs": [
    {
     "data": {
      "image/png": "[encoded data removed]",
      "text/plain": [
       "<Figure size 1500x800 with 1 Axes>"
      ]
     },
     "metadata": {},
     "output_type": "display_data"
    }
   ],
   "source": [
    "# Plot accuracy with bogo, discount and informational data\n",
    "plt.figure(figsize=(15,8))\n",
    "sns.barplot(data = my_accuracy_data_name_df,\n",
    "            x = 'accuracy', \n",
    "            y = 'customer_group')\n",
    "\n",
    "plt.xlabel(\"Accuracy\", fontsize = 14)\n",
    "plt.ylabel(\"Customer Group\", fontsize = 14)\n",
    "plt.title('Accuracy for specific Customer Groups', size = 16)\n",
    "plt.show()"
   ]
  },
  {
   "cell_type": "markdown",
   "metadata": {},
   "source": [
    "#### Conclusion for computed accuracy for 'BOGO', 'discount' and 'informational' \"gender-age-income-specific\" data\n",
    "\n",
    "1. As expected, the precision in all cases for the 'informational' data = 1 becaus in train data and test data the value of 'transaction' is in all datasets = 0.\n",
    "\n",
    "2. For the specific data, the accuracy is between 0.6391 (bogo_female_young_rich) and 0.7345 (discount_female_young_poor). There are no outliers or other abnormalities in the accuracy values ​​apart from the facts presented in point 1.\n",
    "\n",
    "3. It is interesting that the accuracy in the specified data for 'discount' is better than the accuracy for 'BOGO' data for all customer groups with the exception of 'offer_female_old_poor'. Does this mean that the 'discount' offer is more attractive than the 'BOGO' offer?\n",
    "As a reminder: this is synthetic data, but the findings could be used to evaluate comparable real transactions.\n",
    "\n",
    "4. The accuracy over the entire data set bogo_discount_informational is better than the accuracy of the specific partial data sets without 'informational' data (see point 1).\n",
    "\n",
    "5. If the accuracy for the entire data set is calculated using only the 'BOGO' and 'discount' data, then this accuracy should also be slightly lower.\n",
    "\n",
    "Let's try."
   ]
  },
  {
   "cell_type": "markdown",
   "metadata": {},
   "source": [
    "### At first wie take a look on the prediction with 'BOGO' and 'discount'  data"
   ]
  },
  {
   "cell_type": "code",
   "execution_count": 82,
   "metadata": {},
   "outputs": [],
   "source": [
    "# Train- and test data in bogo_discount\n",
    "X = np.array(bogo_discount.loc[:, bogo_discount.columns != 'transaction'])\n",
    "y = np.array(bogo_discount['transaction'])\n",
    "X_train, X_test, y_train, y_test = train_test_split(X, y, test_size = 0.3, random_state = 666)"
   ]
  },
  {
   "cell_type": "code",
   "execution_count": 83,
   "metadata": {},
   "outputs": [
    {
     "name": "stdout",
     "output_type": "stream",
     "text": [
      "Test accuracy for bogo_discount computed with RandomForestClassifier: 0.6865\n",
      "Test accuracy for bogo_discount computed with AdaBoostClassifier: 0.6952\n"
     ]
    }
   ],
   "source": [
    "# Compute the accurcy for test data in bogo_discount\n",
    "rfc = RandomForestClassifier(random_state = 42)\n",
    "rfc = rfc.fit(X_train, y_train)\n",
    "\n",
    "abc = AdaBoostClassifier(random_state = 42)\n",
    "abc = abc.fit(X_train, y_train)\n",
    "\n",
    "accuracy_rfc_test_bd = rfc.score(X_test, y_test)\n",
    "accuracy_abc_test_bd = abc.score(X_test, y_test)\n",
    "\n",
    "print(\"Test accuracy for bogo_discount computed with RandomForestClassifier: {:.4f}\".format(accuracy_rfc_test_bd))\n",
    "print(\"Test accuracy for bogo_discount computed with AdaBoostClassifier: {:.4f}\".format(accuracy_abc_test_bd))"
   ]
  },
  {
   "cell_type": "markdown",
   "metadata": {},
   "source": [
    "#### Conclusion for computed accuracy for bogo_discount data with AdaBoostClarifier and RandomForestClassifier\n",
    "AdaBoostClarifier with accuracy = 0.6952 provides slightly better than RandomForestClassifier with accuracy = 0.6730 for test data.\n",
    "\n",
    "As expected, the accuracy without 'informational' data is lower than the accuracy with 'informational' data, both computed with AdaBoostClarifier and RandomForsetClarifier."
   ]
  },
  {
   "cell_type": "markdown",
   "metadata": {},
   "source": [
    "### Computing of the accuracy for 'BOGO' and 'discount'  \"gender-age-income-specific\" data\n",
    "#### Dictionary of data to be considered for which accuracy is to be calculated"
   ]
  },
  {
   "cell_type": "code",
   "execution_count": 84,
   "metadata": {},
   "outputs": [],
   "source": [
    "# Dictionary with bogo_discount data, name of dataframe and dataframe\n",
    "my_data_dict_new = {'bogo_male_old_rich': bogo_male_old_rich_pd,\n",
    "                'bogo_male_old_poor': bogo_male_old_poor_pd,\n",
    "                'bogo_male_young_rich': bogo_male_young_rich_pd,\n",
    "                'bogo_male_young_poor': bogo_male_young_poor_pd,\n",
    "                'bogo_female_old_rich': bogo_female_old_rich_pd,\n",
    "                'bogo_female_old_poor': bogo_female_old_poor_pd,\n",
    "                'bogo_female_young_rich': bogo_female_young_rich_pd,\n",
    "                'bogo_female_young_poor': bogo_female_young_poor_pd,\n",
    "                'discount_male_old_rich': discount_male_old_rich_pd,\n",
    "                'discount_male_old_poor': discount_male_old_poor_pd,\n",
    "                'discount_male_young_rich': discount_male_young_rich_pd,\n",
    "                'discount_male_young_poor': discount_male_young_poor_pd,\n",
    "                'discount_female_old_rich': discount_female_old_rich_pd,\n",
    "                'discount_female_old_poor': discount_female_old_poor_pd,\n",
    "                'discount_female_young_rich': discount_female_young_rich_pd,\n",
    "                'discount_female_young_poor': discount_female_young_poor_pd,\n",
    "                'whole_consumers_bogo_discount': bogo_discount\n",
    "               }"
   ]
  },
  {
   "cell_type": "code",
   "execution_count": 85,
   "metadata": {},
   "outputs": [],
   "source": [
    "# Convert keys and values from dictionary into lists\n",
    "my_data_list_new = my_data_dict_new.values()\n",
    "my_data_name_list_new = my_data_dict_new.keys()"
   ]
  },
  {
   "cell_type": "code",
   "execution_count": 86,
   "metadata": {},
   "outputs": [],
   "source": [
    "# Calculate accuracy\n",
    "my_accuracy_list_new = []\n",
    "\n",
    "for d in my_data_list_new:\n",
    "    accuracy = compute_accuracy(d)\n",
    "    my_accuracy_list_new.append(accuracy)"
   ]
  },
  {
   "cell_type": "code",
   "execution_count": 87,
   "metadata": {},
   "outputs": [],
   "source": [
    "# Zip my_accuracy_data_name_list_new and my_accuracy_data_name_df_new and convert to df\n",
    "my_accuracy_data_name_list_new = list(zip(my_data_name_list_new, my_accuracy_list_new))\n",
    "my_accuracy_data_name_df_new = pd.DataFrame(my_accuracy_data_name_list_new, columns = ['customer_group', 'accuracy'])"
   ]
  },
  {
   "cell_type": "code",
   "execution_count": 88,
   "metadata": {},
   "outputs": [
    {
     "name": "stdout",
     "output_type": "stream",
     "text": [
      "                   customer_group  accuracy\n",
      "0              bogo_male_old_rich  0.640146\n",
      "1              bogo_male_old_poor  0.703744\n",
      "2            bogo_male_young_rich  0.683280\n",
      "3            bogo_male_young_poor  0.707778\n",
      "4            bogo_female_old_rich  0.688259\n",
      "5            bogo_female_old_poor  0.679348\n",
      "6          bogo_female_young_rich  0.639098\n",
      "7          bogo_female_young_poor  0.650108\n",
      "8          discount_male_old_rich  0.692641\n",
      "9          discount_male_old_poor  0.734149\n",
      "10       discount_male_young_rich  0.721078\n",
      "11       discount_male_young_poor  0.724944\n",
      "12       discount_female_old_rich  0.715655\n",
      "13       discount_female_old_poor  0.668508\n",
      "14     discount_female_young_rich  0.707951\n",
      "15     discount_female_young_poor  0.734475\n",
      "16  whole_consumers_bogo_discount  0.694832\n"
     ]
    }
   ],
   "source": [
    "print(my_accuracy_data_name_df_new)"
   ]
  },
  {
   "cell_type": "code",
   "execution_count": 101,
   "metadata": {},
   "outputs": [
    {
     "data": {
      "image/png": "[encoded data removed]",
      "text/plain": [
       "<Figure size 1500x500 with 1 Axes>"
      ]
     },
     "metadata": {},
     "output_type": "display_data"
    }
   ],
   "source": [
    "# Plot the accuracy with bogo and discount data\n",
    "plt.figure(figsize=(15,5))\n",
    "sns.barplot(data = my_accuracy_data_name_df_new,\n",
    "            x = 'accuracy', \n",
    "            y = 'customer_group')\n",
    "\n",
    "plt.xlabel(\"Accuracy\", fontsize = 14)\n",
    "plt.ylabel(\"Customer Group\", fontsize = 14)\n",
    "plt.title('Accuracy for specific Customer Groups', size = 16)\n",
    "plt.show()"
   ]
  },
  {
   "cell_type": "markdown",
   "metadata": {},
   "source": [
    "#### Calculate the delta in accuracy between bogo and discout data"
   ]
  },
  {
   "cell_type": "code",
   "execution_count": 90,
   "metadata": {},
   "outputs": [],
   "source": [
    "# Only accuracy with bogo data\n",
    "my_accuracy_bogo = my_accuracy_data_name_df_new[:8]\n",
    "my_accuracy_bogo = pd.DataFrame(my_accuracy_bogo)\n",
    "my_accuracy_bogo.rename(columns = {'accuracy': 'acc_bogo', 'customer_group': 'c_g_bogo'}, inplace = True)"
   ]
  },
  {
   "cell_type": "code",
   "execution_count": 91,
   "metadata": {},
   "outputs": [],
   "source": [
    "# Only accuracy with discount data\n",
    "my_accuracy_discount = my_accuracy_data_name_df_new[8:-1]\n",
    "my_accuracy_discount = pd.DataFrame(my_accuracy_discount)\n",
    "my_accuracy_discount.rename(columns = {'accuracy': 'acc_discount', 'customer_group': 'c_g_discount'}, inplace = True)\n",
    "my_accuracy_discount = my_accuracy_discount.rename_axis('index').reset_index()\n",
    "my_accuracy_discount = my_accuracy_discount.drop('index', axis = 1)"
   ]
  },
  {
   "cell_type": "code",
   "execution_count": 92,
   "metadata": {},
   "outputs": [
    {
     "data": {
      "text/html": [
       "<div>\n",
       "<style scoped>\n",
       "    .dataframe tbody tr th:only-of-type {\n",
       "        vertical-align: middle;\n",
       "    }\n",
       "\n",
       "    .dataframe tbody tr th {\n",
       "        vertical-align: top;\n",
       "    }\n",
       "\n",
       "    .dataframe thead th {\n",
       "        text-align: right;\n",
       "    }\n",
       "</style>\n",
       "<table border=\"1\" class=\"dataframe\">\n",
       "  <thead>\n",
       "    <tr style=\"text-align: right;\">\n",
       "      <th></th>\n",
       "      <th>c_g_bogo</th>\n",
       "      <th>acc_bogo</th>\n",
       "      <th>c_g_discount</th>\n",
       "      <th>acc_discount</th>\n",
       "      <th>acc_delta</th>\n",
       "      <th>customer_group</th>\n",
       "    </tr>\n",
       "  </thead>\n",
       "  <tbody>\n",
       "    <tr>\n",
       "      <th>0</th>\n",
       "      <td>bogo_male_old_rich</td>\n",
       "      <td>0.640146</td>\n",
       "      <td>discount_male_old_rich</td>\n",
       "      <td>0.692641</td>\n",
       "      <td>0.052495</td>\n",
       "      <td>male_old_rich</td>\n",
       "    </tr>\n",
       "    <tr>\n",
       "      <th>1</th>\n",
       "      <td>bogo_male_old_poor</td>\n",
       "      <td>0.703744</td>\n",
       "      <td>discount_male_old_poor</td>\n",
       "      <td>0.734149</td>\n",
       "      <td>0.030405</td>\n",
       "      <td>male_old_poor</td>\n",
       "    </tr>\n",
       "    <tr>\n",
       "      <th>2</th>\n",
       "      <td>bogo_male_young_rich</td>\n",
       "      <td>0.683280</td>\n",
       "      <td>discount_male_young_rich</td>\n",
       "      <td>0.721078</td>\n",
       "      <td>0.037798</td>\n",
       "      <td>male_young_rich</td>\n",
       "    </tr>\n",
       "    <tr>\n",
       "      <th>3</th>\n",
       "      <td>bogo_male_young_poor</td>\n",
       "      <td>0.707778</td>\n",
       "      <td>discount_male_young_poor</td>\n",
       "      <td>0.724944</td>\n",
       "      <td>0.017167</td>\n",
       "      <td>male_young_poor</td>\n",
       "    </tr>\n",
       "    <tr>\n",
       "      <th>4</th>\n",
       "      <td>bogo_female_old_rich</td>\n",
       "      <td>0.688259</td>\n",
       "      <td>discount_female_old_rich</td>\n",
       "      <td>0.715655</td>\n",
       "      <td>0.027396</td>\n",
       "      <td>female_old_rich</td>\n",
       "    </tr>\n",
       "    <tr>\n",
       "      <th>5</th>\n",
       "      <td>bogo_female_old_poor</td>\n",
       "      <td>0.679348</td>\n",
       "      <td>discount_female_old_poor</td>\n",
       "      <td>0.668508</td>\n",
       "      <td>-0.010840</td>\n",
       "      <td>female_old_poor</td>\n",
       "    </tr>\n",
       "    <tr>\n",
       "      <th>6</th>\n",
       "      <td>bogo_female_young_rich</td>\n",
       "      <td>0.639098</td>\n",
       "      <td>discount_female_young_rich</td>\n",
       "      <td>0.707951</td>\n",
       "      <td>0.068853</td>\n",
       "      <td>female_young_rich</td>\n",
       "    </tr>\n",
       "    <tr>\n",
       "      <th>7</th>\n",
       "      <td>bogo_female_young_poor</td>\n",
       "      <td>0.650108</td>\n",
       "      <td>discount_female_young_poor</td>\n",
       "      <td>0.734475</td>\n",
       "      <td>0.084367</td>\n",
       "      <td>female_young_poor</td>\n",
       "    </tr>\n",
       "  </tbody>\n",
       "</table>\n",
       "</div>"
      ],
      "text/plain": [
       "                 c_g_bogo  acc_bogo                c_g_discount  acc_discount  \\\n",
       "0      bogo_male_old_rich  0.640146      discount_male_old_rich      0.692641   \n",
       "1      bogo_male_old_poor  0.703744      discount_male_old_poor      0.734149   \n",
       "2    bogo_male_young_rich  0.683280    discount_male_young_rich      0.721078   \n",
       "3    bogo_male_young_poor  0.707778    discount_male_young_poor      0.724944   \n",
       "4    bogo_female_old_rich  0.688259    discount_female_old_rich      0.715655   \n",
       "5    bogo_female_old_poor  0.679348    discount_female_old_poor      0.668508   \n",
       "6  bogo_female_young_rich  0.639098  discount_female_young_rich      0.707951   \n",
       "7  bogo_female_young_poor  0.650108  discount_female_young_poor      0.734475   \n",
       "\n",
       "   acc_delta     customer_group  \n",
       "0   0.052495      male_old_rich  \n",
       "1   0.030405      male_old_poor  \n",
       "2   0.037798    male_young_rich  \n",
       "3   0.017167    male_young_poor  \n",
       "4   0.027396    female_old_rich  \n",
       "5  -0.010840    female_old_poor  \n",
       "6   0.068853  female_young_rich  \n",
       "7   0.084367  female_young_poor  "
      ]
     },
     "execution_count": 92,
     "metadata": {},
     "output_type": "execute_result"
    }
   ],
   "source": [
    "# Common data with delta accuracy\n",
    "consumer_groups =['male_old_rich',\n",
    "                  'male_old_poor', \n",
    "                  'male_young_rich', \n",
    "                  'male_young_poor', \n",
    "                  'female_old_rich', \n",
    "                  'female_old_poor', \n",
    "                  'female_young_rich', \n",
    "                  'female_young_poor']\n",
    "\n",
    "my_accuracy_delta = my_accuracy_bogo.join(my_accuracy_discount)\n",
    "\n",
    "my_accuracy_delta.insert(loc = len(my_accuracy_delta.columns), \n",
    "                         column='acc_delta', \n",
    "                         value = my_accuracy_delta.acc_discount - my_accuracy_delta.acc_bogo)\n",
    "\n",
    "my_accuracy_delta.insert(loc = len(my_accuracy_delta.columns), \n",
    "                         column='customer_group', \n",
    "                         value = consumer_groups)\n",
    "my_accuracy_delta"
   ]
  },
  {
   "cell_type": "code",
   "execution_count": 103,
   "metadata": {},
   "outputs": [
    {
     "data": {
      "image/png": "[encoded data removed]",
      "text/plain": [
       "<Figure size 1500x300 with 1 Axes>"
      ]
     },
     "metadata": {},
     "output_type": "display_data"
    }
   ],
   "source": [
    "# Plot the delta accuracy with bogo and discount data for the specific customer groups\n",
    "plt.figure(figsize=(15,3))\n",
    "sns.barplot(data = my_accuracy_delta, \n",
    "            x = 'acc_delta', \n",
    "            y = 'customer_group')\n",
    "\n",
    "plt.xlabel(\"Delta Accuracy = Accuracy discount - Accuracy bogo\", fontsize = 14)\n",
    "plt.ylabel(\"Customer Group\", fontsize = 14)\n",
    "plt.title('Delta Accuracy for specific Customer Groups', size = 16)\n",
    "plt.show()"
   ]
  },
  {
   "cell_type": "markdown",
   "metadata": {},
   "source": [
    "#### Conclusion for computed accuracy for 'BOGO' and 'discount' \"gender-age-income-specific\" data\n",
    "1. Trivial statement: The accuracy of the specific data has not changed because the database has remained the same.\n",
    "2. The accuracy of all data in bd is now in the middle range of the accuracy of the specific data, which was to be expected.\n",
    "3. It can be seen that the accuracy of the 'discount' specific data is always higher than the accuracy of the 'BOGO' specific data. Exception: accuracy(discount_female_old_poor) = 0.668508 is less than accuracy(bogo_female_old_poor) = 0.679348\n",
    "4. Can it be concluded from point 3 that customers are more willing to use the 'discount' offer in the correct transaction sequence than the 'BOGO' offer? The difference in accuracy is not extreme but significant. The largest delta in accuracy is at female_young_poor with acc_delta = 0.084367. Based on the accuracy(bogo_female_young_poor) = 0.650108, this is a deviation of about 14% upwards.\n",
    "5. In mine opinion, it should be checked whether the knowledge acquired in this way can be transferred to real scenarios and which measures for addressing customers can be derived from this. In particular, it should be noted that real data contains significantly more customer data and also a significantly larger portfolio of offers. From the large amount of customer data, more precise statistical evaluations can be carried out with more precise results for the predictions.\n",
    "\n",
    "Finally, a critical note on the procedure: From the accuracy data obtained, it can be deduced that those groups of people who have a higher probability of completing a transaction are specifically addressed for an offer. In comparison with the accuracy = 0.6952 for all 'BOGO' and 'discount' data, the highest accuracy for the specific consumer data is 0.7345. It is better than the general accuracy but not significantly better. The question therefore arises as to whether the additional effort is worth preparing the consumer data in such a way that the best offer can be created for the consumer of a specified type.\n"
   ]
  },
  {
   "cell_type": "code",
   "execution_count": null,
   "metadata": {},
   "outputs": [],
   "source": []
  },
  {
   "cell_type": "code",
   "execution_count": 94,
   "metadata": {},
   "outputs": [
    {
     "data": {
      "text/plain": [
       "1"
      ]
     },
     "execution_count": 94,
     "metadata": {},
     "output_type": "execute_result"
    }
   ],
   "source": [
    "\n",
    "\n",
    "from subprocess import call\n",
    "call(['python', '-m', 'nbconvert', 'Starbucks_Capstone_notebook.ipynb'])\n",
    "\n"
   ]
  }
 ],
 "metadata": {
  "kernelspec": {
   "display_name": "Python 3 (ipykernel)",
   "language": "python",
   "name": "python3"
  },
  "language_info": {
   "codemirror_mode": {
    "name": "ipython",
    "version": 3
   },
   "file_extension": ".py",
   "mimetype": "text/x-python",
   "name": "python",
   "nbconvert_exporter": "python",
   "pygments_lexer": "ipython3",
   "version": "3.9.13"
  }
 },
 "nbformat": 4,
 "nbformat_minor": 2
}
